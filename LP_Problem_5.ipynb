{
  "nbformat": 4,
  "nbformat_minor": 0,
  "metadata": {
    "colab": {
      "provenance": [],
      "authorship_tag": "ABX9TyNbFjSE6669f9rAAIChM9vL",
      "include_colab_link": true
    },
    "kernelspec": {
      "name": "python3",
      "display_name": "Python 3"
    },
    "language_info": {
      "name": "python"
    }
  },
  "cells": [
    {
      "cell_type": "markdown",
      "metadata": {
        "id": "view-in-github",
        "colab_type": "text"
      },
      "source": [
        "<a href=\"https://colab.research.google.com/github/Jonathan-code-hub/Many-Mini-OR-Problems/blob/main/LP_Problem_5.ipynb\" target=\"_parent\"><img src=\"https://colab.research.google.com/assets/colab-badge.svg\" alt=\"Open In Colab\"/></a>"
      ]
    },
    {
      "cell_type": "markdown",
      "source": [
        "Problem 5: A company assembles two products: A and B. Product\n",
        "A sells for \\$11 per unit, and product B sells for \\$23 per unit.\n",
        "A unit of product A requires 2 hours on assembly line 1 and\n",
        "1 unit of raw material. A unit of product B requires 2 units\n",
        "of raw material, 1 unit of A, and 2 hours on line 2. For line\n",
        "1, 1,300 hours of time are available and 500 hours of time\n",
        "are available on line 2. A unit of raw material may be bought\n",
        "(for $5 a unit) or produced (at no cost) by using 2 hours of\n",
        "time on line 1. Determine how to maximize profit."
      ],
      "metadata": {
        "id": "dBqqRIjvdagp"
      }
    },
    {
      "cell_type": "code",
      "source": [
        "!pip install pulp"
      ],
      "metadata": {
        "id": "nRm0zPiedazl",
        "colab": {
          "base_uri": "https://localhost:8080/"
        },
        "outputId": "8c7afbde-22d5-45d3-93af-12fc014ee845"
      },
      "execution_count": 4,
      "outputs": [
        {
          "output_type": "stream",
          "name": "stdout",
          "text": [
            "Requirement already satisfied: pulp in /usr/local/lib/python3.11/dist-packages (3.2.2)\n"
          ]
        }
      ]
    },
    {
      "cell_type": "code",
      "execution_count": 33,
      "metadata": {
        "id": "eJSo7NtxdSVp",
        "colab": {
          "base_uri": "https://localhost:8080/"
        },
        "outputId": "14c74b64-3b29-40e4-8578-5582269691a1"
      },
      "outputs": [
        {
          "output_type": "stream",
          "name": "stdout",
          "text": [
            "Prod A: 1300.0\n",
            "Prod B: 250.0\n",
            "Raw Resource Made: 0.0\n",
            "Raw Resource Bought: 2050.0\n",
            "Profit:$ 20050\n"
          ]
        }
      ],
      "source": [
        "from pulp import LpProblem, LpVariable, LpMaximize\n",
        "model = LpProblem(\"Product A and Product B Max Profit\", LpMaximize)\n",
        "\n",
        "# Variable #\n",
        "prodA = LpVariable('prodA', lowBound = 0)\n",
        "prodB = LpVariable('prodB', lowBound = 0)\n",
        "rawResMade = LpVariable('rawResMade', lowBound = 0)\n",
        "rawResBought = LpVariable('rawResBought', lowBound = 0)\n",
        "\n",
        "# Objective Function (Maximizing Profits) #\n",
        "model += prodA*11 + prodB*23 - 5*rawResBought\n",
        "\n",
        "# Constraints #\n",
        "model += prodA + 2*rawResMade  <= 1300 # Time Line 1\n",
        "model += 2*prodB <= 500 # Time Line 2\n",
        "model += prodA + 3*prodB <= rawResMade + rawResBought\n",
        "\n",
        "#  #\n",
        "model.solve()\n",
        "\n",
        "profit = int(prodA.value())*11 + int(prodB.value())*23\n",
        "\n",
        "print(\"Prod A:\", prodA.value())\n",
        "print(\"Prod B:\", prodB.value())\n",
        "print(\"Raw Resource Made:\", rawResMade.value())\n",
        "print(\"Raw Resource Bought:\", rawResBought.value())\n",
        "print(\"Profit:$\", profit)"
      ]
    }
  ]
}