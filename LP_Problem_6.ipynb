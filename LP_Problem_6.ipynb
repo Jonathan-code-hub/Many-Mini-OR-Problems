{
  "nbformat": 4,
  "nbformat_minor": 0,
  "metadata": {
    "colab": {
      "provenance": [],
      "authorship_tag": "ABX9TyMcVUdfFZmTBXtALJMTf86J",
      "include_colab_link": true
    },
    "kernelspec": {
      "name": "python3",
      "display_name": "Python 3"
    },
    "language_info": {
      "name": "python"
    }
  },
  "cells": [
    {
      "cell_type": "markdown",
      "metadata": {
        "id": "view-in-github",
        "colab_type": "text"
      },
      "source": [
        "<a href=\"https://colab.research.google.com/github/Jonathan-code-hub/Many-Mini-OR-Problems/blob/main/LP_Problem_6.ipynb\" target=\"_parent\"><img src=\"https://colab.research.google.com/assets/colab-badge.svg\" alt=\"Open In Colab\"/></a>"
      ]
    },
    {
      "cell_type": "markdown",
      "source": [
        "Problem 6: Turkeyco produces two types of turkey cutlets for sale\n",
        "to fast-food restaurants. Each type of cutlet consists of white\n",
        "meat and dark meat. Cutlet 1 sells for \\$4/lb and must consist\n",
        "of at least 70% white meat. Cutlet 2 sells for \\$3/lb and must\n",
        "consist of at least 60% white meat. At most, 50 lb of cutlet\n",
        "1 and 30 lb of cutlet 2 can be sold. The two types of turkey\n",
        "used to manufacture the cutlets are purchased from the\n",
        "GobbleGobble Turkey Farm. Each type 1 turkey costs \\$10\n",
        "and yields 5 lb of white meat and 2 lb of dark meat. Each\n",
        "type 2 turkey costs \\$8 and yields 3 lb of white meat and\n",
        "3 lb of dark meat. Formulate an LP to maximize Turkeyco’s\n",
        "profit."
      ],
      "metadata": {
        "id": "NUfAzrzP7av9"
      }
    },
    {
      "cell_type": "code",
      "source": [
        "!pip install pulp"
      ],
      "metadata": {
        "id": "DQCvhRYn7a9Q",
        "colab": {
          "base_uri": "https://localhost:8080/"
        },
        "outputId": "4188d62b-e9ac-46e5-8699-3b024f2c98c2"
      },
      "execution_count": 1,
      "outputs": [
        {
          "output_type": "stream",
          "name": "stdout",
          "text": [
            "Collecting pulp\n",
            "  Downloading pulp-3.2.2-py3-none-any.whl.metadata (6.9 kB)\n",
            "Downloading pulp-3.2.2-py3-none-any.whl (16.4 MB)\n",
            "\u001b[2K   \u001b[90m━━━━━━━━━━━━━━━━━━━━━━━━━━━━━━━━━━━━━━━━\u001b[0m \u001b[32m16.4/16.4 MB\u001b[0m \u001b[31m33.1 MB/s\u001b[0m eta \u001b[36m0:00:00\u001b[0m\n",
            "\u001b[?25hInstalling collected packages: pulp\n",
            "Successfully installed pulp-3.2.2\n"
          ]
        }
      ]
    },
    {
      "cell_type": "code",
      "execution_count": 35,
      "metadata": {
        "id": "o8A1JhKy59oj",
        "colab": {
          "base_uri": "https://localhost:8080/"
        },
        "outputId": "2a682450-cf0b-4ebb-a628-6cb45fa8c0ef"
      },
      "outputs": [
        {
          "output_type": "stream",
          "name": "stdout",
          "text": [
            "~Optimal Turkey Cuts~\n",
            "Cutlet 1: 50\n",
            "Cutlet 2: 30\n",
            "Turkey 1: 9\n",
            "Turkey 2: 3\n",
            "White Meat: 54\n",
            "Dark Meat: 27\n",
            "Profit: $176.00\n"
          ]
        }
      ],
      "source": [
        "from pulp import LpProblem, LpMaximize, LpVariable, value\n",
        "lp = LpProblem('TurkeyCo_LP', LpMaximize)\n",
        "\n",
        "# Variables #\n",
        "cutlet_1 = LpVariable('cutlet_1', lowBound = 0, upBound = 50)\n",
        "cutlet_2 = LpVariable('cutlet_2', lowBound = 0, upBound = 30)\n",
        "turkey_1 = LpVariable('turkey_1', lowBound = 0, cat = 'Integer')\n",
        "turkey_2 = LpVariable('turkey_2', lowBound = 0, cat = 'Integer')\n",
        "dark_meat = LpVariable('dark_meat', lowBound = 0)\n",
        "white_meat = LpVariable('white_meat', lowBound = 0)\n",
        "\n",
        "\n",
        "# Objective Function #\n",
        "lp += cutlet_1*4 + cutlet_2*3 - turkey_1*10 - turkey_2*8\n",
        "\n",
        "# Constraints #\n",
        "lp += 0.7*cutlet_1  + 0.6*cutlet_2  <= white_meat\n",
        "lp += 0.3*cutlet_1  + 0.4*cutlet_2  <= dark_meat\n",
        "lp += 5*turkey_1 + 3*turkey_2 >= white_meat\n",
        "lp += 2*turkey_1 + 3*turkey_2 >= dark_meat\n",
        "\n",
        "# Linear Problem Solution s #\n",
        "lp.solve()\n",
        "\n",
        "print(\"~Optimal Turkey Cuts~\")\n",
        "print(\"Cutlet 1:\", int(cutlet_1.value()))\n",
        "print(\"Cutlet 2:\", int(cutlet_2.value()))\n",
        "print(\"Turkey 1:\", int(turkey_1.value()))\n",
        "print(\"Turkey 2:\", int(turkey_2.value()))\n",
        "print(\"White Meat:\", int(white_meat.value()))\n",
        "print(\"Dark Meat:\", int(dark_meat.value()))\n",
        "print(f\"Profit: ${value(lp.objective):.2f}\")"
      ]
    }
  ]
}