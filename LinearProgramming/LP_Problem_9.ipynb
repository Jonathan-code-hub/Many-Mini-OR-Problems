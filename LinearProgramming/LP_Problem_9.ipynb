{
  "nbformat": 4,
  "nbformat_minor": 0,
  "metadata": {
    "colab": {
      "provenance": [],
      "authorship_tag": "ABX9TyMM+iORDdKuLEyJFkJY4gCO",
      "include_colab_link": true
    },
    "kernelspec": {
      "name": "python3",
      "display_name": "Python 3"
    },
    "language_info": {
      "name": "python"
    }
  },
  "cells": [
    {
      "cell_type": "markdown",
      "metadata": {
        "id": "view-in-github",
        "colab_type": "text"
      },
      "source": [
        "<a href=\"https://colab.research.google.com/github/Jonathan-code-hub/Many-Mini-OR-Problems/blob/main/LinearProgramming/LP_Problem_9.ipynb\" target=\"_parent\"><img src=\"https://colab.research.google.com/assets/colab-badge.svg\" alt=\"Open In Colab\"/></a>"
      ]
    },
    {
      "cell_type": "markdown",
      "source": [
        "Problem 9: Monroe County is trying to determine where to place\n",
        "the county fire station. The locations of the county’s four\n",
        "major towns are given in Figure 31. Town 1 is at (10, 20);\n",
        "town 2 is at (60, 20); town 3 is at (40, 30); town 4 is at (80,\n",
        "60). Town 1 averages 20 fires per year; town 2, 30 fires;\n",
        "town 3, 40 fires; and town 4, 25 fires. The county wants to\n",
        "build the fire station in a location that minimizes the average\n",
        "distance that a fire engine must travel to respond to a fire.\n",
        "Since most roads run in either an east–west or a north–south\n",
        "direction, we assume that the fire engine can only do the\n",
        "same. Thus, if the fire station were located at (30, 40) and\n",
        "a fire occurred at town 4, the fire engine would have to\n",
        "travel (80 - 30) + (60 - 40)  70 miles to the fire. Use\n",
        "linear programming to determine where the fire station\n",
        "should be located. (Hint: If the fire station is to be located\n",
        "at the point (x, y) and there is a town at the point (a, b),\n",
        "define variables e, w, n, s (east, west, north, south) that\n",
        "satisfy the equations x - a  = w - e and y - b  = n - s.\n",
        "It should now be easy to obtain the correct LP formulation.)"
      ],
      "metadata": {
        "id": "uprA-zAwMEqU"
      }
    },
    {
      "cell_type": "code",
      "source": [
        "!pip install pulp"
      ],
      "metadata": {
        "colab": {
          "base_uri": "https://localhost:8080/"
        },
        "id": "E170mfkfMESx",
        "outputId": "72f2eb5b-ed64-4e61-c0ab-cc4f15582188"
      },
      "execution_count": 1,
      "outputs": [
        {
          "output_type": "stream",
          "name": "stdout",
          "text": [
            "Collecting pulp\n",
            "  Downloading pulp-3.2.2-py3-none-any.whl.metadata (6.9 kB)\n",
            "Downloading pulp-3.2.2-py3-none-any.whl (16.4 MB)\n",
            "\u001b[2K   \u001b[90m━━━━━━━━━━━━━━━━━━━━━━━━━━━━━━━━━━━━━━━━\u001b[0m \u001b[32m16.4/16.4 MB\u001b[0m \u001b[31m28.7 MB/s\u001b[0m eta \u001b[36m0:00:00\u001b[0m\n",
            "\u001b[?25hInstalling collected packages: pulp\n",
            "Successfully installed pulp-3.2.2\n"
          ]
        }
      ]
    },
    {
      "cell_type": "code",
      "execution_count": 11,
      "metadata": {
        "colab": {
          "base_uri": "https://localhost:8080/"
        },
        "id": "Ls66iJWQLucF",
        "outputId": "fb375923-aba8-4f44-f2fd-a713470073cd"
      },
      "outputs": [
        {
          "output_type": "stream",
          "name": "stdout",
          "text": [
            "Status: Optimal\n",
            "Optimal Fire Station Location: ( 40.0 , 30.0 )\n",
            "Minimum Weighted Distance: 3450.0\n"
          ]
        }
      ],
      "source": [
        "from pulp import *\n",
        "import numpy as np\n",
        "stationPosition = LpProblem('stationPosition', LpMinimize)\n",
        "\n",
        "# Variables #\n",
        "\n",
        "towns = {\n",
        "    1: ((10, 20), 20),\n",
        "    2: ((60, 20), 30),\n",
        "    3: ((40, 30), 40),\n",
        "    4: ((80, 60), 25)\n",
        "}\n",
        "\n",
        "x = LpVariable('x', )\n",
        "y = LpVariable('y', )\n",
        "\n",
        "w, e, n, s, d = {}, {}, {}, {}, {}\n",
        "\n",
        "# Objective Function #\n",
        "for i, ((a, b), f) in towns.items():\n",
        "  w[i] = LpVariable(f\"w_{i}\", lowBound=0)\n",
        "  e[i] = LpVariable(f\"e_{i}\", lowBound=0)\n",
        "  n[i] = LpVariable(f\"n_{i}\", lowBound=0)\n",
        "  s[i] = LpVariable(f\"s_{i}\", lowBound=0)\n",
        "  d[i] = LpVariable(f\"d_{i}\", lowBound=0)\n",
        "\n",
        "\n",
        "  # Constraints for rectilinear distance #\n",
        "  stationPosition += x - a == w[i] - e[i]\n",
        "  stationPosition += y - b == n[i] - s[i]\n",
        "  stationPosition += d[i] == w[i] + e[i] + n[i] + s[i]\n",
        "\n",
        "# Objective: Minimize weighted sum of distances #\n",
        "stationPosition += lpSum(f * d[i] for i, ((a, b), f) in towns.items())\n",
        "\n",
        "stationPosition.solve()\n",
        "\n",
        "print(\"Status:\", LpStatus[stationPosition.status])\n",
        "print(\"Optimal Fire Station Location: (\", value(x), \",\", value(y), \")\")\n",
        "print(\"Minimum Weighted Distance:\", value(stationPosition.objective))\n"
      ]
    }
  ]
}