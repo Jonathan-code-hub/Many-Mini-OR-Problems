{
  "nbformat": 4,
  "nbformat_minor": 0,
  "metadata": {
    "colab": {
      "provenance": [],
      "authorship_tag": "ABX9TyNBuhw02cCBI02z2ZOH9MAz",
      "include_colab_link": true
    },
    "kernelspec": {
      "name": "python3",
      "display_name": "Python 3"
    },
    "language_info": {
      "name": "python"
    }
  },
  "cells": [
    {
      "cell_type": "markdown",
      "metadata": {
        "id": "view-in-github",
        "colab_type": "text"
      },
      "source": [
        "<a href=\"https://colab.research.google.com/github/Jonathan-code-hub/Many-Mini-OR-Problems/blob/main/LinearProgramming/LP_Problem_14.ipynb\" target=\"_parent\"><img src=\"https://colab.research.google.com/assets/colab-badge.svg\" alt=\"Open In Colab\"/></a>"
      ]
    },
    {
      "cell_type": "markdown",
      "source": [
        "Problem 14: A bus company believes that it will need the following\n",
        "number of bus drivers during each of the next five years:\n",
        "year 1—60 drivers; year 2—70 drivers; year 3—50 drivers;\n",
        "year 4—65 drivers; year 5—75 drivers. At the beginning of\n",
        "each year, the bus company must decide how many drivers\n",
        "should be hired or fired. It costs \\$4,000 to hire a driver and\n",
        "\\$2,000 to fire a driver. A driver’s salary is \\$10,000 per year.\n",
        "At the beginning of year 1, the company has 50 drivers. A\n",
        "driver hired at the beginning of a year may be used to meet\n",
        "the current year’s requirements and is paid full salary for the\n",
        "current year. Formulate an LP to minimize the bus company’s\n",
        "salary, hiring, and firing costs over the next five years."
      ],
      "metadata": {
        "id": "LPw1cdhvdGWA"
      }
    },
    {
      "cell_type": "code",
      "execution_count": 4,
      "metadata": {
        "colab": {
          "base_uri": "https://localhost:8080/"
        },
        "id": "iJPJMlugdCJr",
        "outputId": "6c191963-c956-4192-c807-2cf3eaea6e86"
      },
      "outputs": [
        {
          "output_type": "stream",
          "name": "stdout",
          "text": [
            "Collecting pulp\n",
            "  Downloading pulp-3.2.2-py3-none-any.whl.metadata (6.9 kB)\n",
            "Downloading pulp-3.2.2-py3-none-any.whl (16.4 MB)\n",
            "\u001b[2K   \u001b[90m━━━━━━━━━━━━━━━━━━━━━━━━━━━━━━━━━━━━━━━━\u001b[0m \u001b[32m16.4/16.4 MB\u001b[0m \u001b[31m93.6 MB/s\u001b[0m eta \u001b[36m0:00:00\u001b[0m\n",
            "\u001b[?25hInstalling collected packages: pulp\n",
            "Successfully installed pulp-3.2.2\n"
          ]
        }
      ],
      "source": [
        "!pip install pulp"
      ]
    },
    {
      "cell_type": "code",
      "source": [
        "from pulp import LpProblem, LpMinimize, LpVariable, lpSum, value\n",
        "busProblem = LpProblem('busProblem', LpMinimize)\n",
        "\n",
        "\n",
        "# Variables #\n",
        "years = [1,2,3,4,5]\n",
        "driverDemand = {1:60, 2:70, 3:50, 4:65, 5:75}\n",
        "driverIntial = 50\n",
        "\n",
        "driverHires = {t: LpVariable( f'driverHire_{t}', lowBound = 0, cat = 'Integer') for t in years}\n",
        "driverFires = {t: LpVariable( f'driverFire_{t}', lowBound = 0, cat = 'Integer') for t in years}\n",
        "\n",
        "# Objective Function #\n",
        "busProblem += lpSum(driverHires)*4000 + lpSum(driverFires)*2000 + {t: driverDemand[t]*10000 for t in years}\n",
        "\n",
        "# Maintaining #\n",
        "for t in years:\n",
        "  if t == 1:\n",
        "    busProblem += driverHires[t] - driverFires[t] + driverIntial == driverDemand[t]\n",
        "  else:\n",
        "    busProblem += driverDemand[t - 1] - driverFires[t] + driverHires[t] ==  driverDemand[t]\n",
        "\n",
        "busProblem.solve()\n",
        "\n",
        "# Results #\n",
        "print(f\"Total Program Cost: ${value(busProblem.objective):.2f}\")\n",
        "for t in years:\n",
        "  print(f\"Drivers Hired Year {t}:\", int(value(driverHires[t])))\n",
        "  print(f\"Drivers Fired Year {t}:\",int(value(driverFires[t])))\n",
        "  print()"
      ],
      "metadata": {
        "colab": {
          "base_uri": "https://localhost:8080/"
        },
        "id": "pIxd7Eq2dHja",
        "outputId": "16764df4-4ffb-4630-c098-e38b3af54fac"
      },
      "execution_count": 25,
      "outputs": [
        {
          "output_type": "stream",
          "name": "stdout",
          "text": [
            "Total Program Cost: $3420000.00\n",
            "Drivers Hired Year 1: 10\n",
            "Drivers Fired Year 1: 0\n",
            "\n",
            "Drivers Hired Year 2: 10\n",
            "Drivers Fired Year 2: 0\n",
            "\n",
            "Drivers Hired Year 3: 0\n",
            "Drivers Fired Year 3: 20\n",
            "\n",
            "Drivers Hired Year 4: 15\n",
            "Drivers Fired Year 4: 0\n",
            "\n",
            "Drivers Hired Year 5: 10\n",
            "Drivers Fired Year 5: 0\n",
            "\n"
          ]
        }
      ]
    }
  ]
}