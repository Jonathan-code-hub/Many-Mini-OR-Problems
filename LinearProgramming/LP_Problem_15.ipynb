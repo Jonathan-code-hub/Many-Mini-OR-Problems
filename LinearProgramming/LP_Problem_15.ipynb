{
  "nbformat": 4,
  "nbformat_minor": 0,
  "metadata": {
    "colab": {
      "provenance": [],
      "authorship_tag": "ABX9TyOL7EsI3Q9B9lGD3vIOAM76",
      "include_colab_link": true
    },
    "kernelspec": {
      "name": "python3",
      "display_name": "Python 3"
    },
    "language_info": {
      "name": "python"
    }
  },
  "cells": [
    {
      "cell_type": "markdown",
      "metadata": {
        "id": "view-in-github",
        "colab_type": "text"
      },
      "source": [
        "<a href=\"https://colab.research.google.com/github/Jonathan-code-hub/Many-Mini-OR-Problems/blob/main/LinearProgramming/LP_Problem_15.ipynb\" target=\"_parent\"><img src=\"https://colab.research.google.com/assets/colab-badge.svg\" alt=\"Open In Colab\"/></a>"
      ]
    },
    {
      "cell_type": "markdown",
      "source": [
        "Problem 15: Ricky’s Record Store now employs five full-time\n",
        "employees and three part-time employees. The normal\n",
        "workload is 40 hours per week for full-time and 20 hours\n",
        "per week for part-time employees. Each full-time employee\n",
        "is paid $6 per hour for work up to 40 hours per week and\n",
        "can sell 5 records per hour. A full-time employee who works\n",
        "overtime is paid \\$10 per hour. Each part-time employee is\n",
        "paid \\$3 per hour and can sell 3 records per hour. It costs\n",
        "Ricky \\$6 to buy a record, and each record sells for \\$9.\n",
        "Ricky has weekly fixed expenses of \\$500. He has established\n",
        "the following weekly goals, listed in order of priority:\n",
        "Goal 1 Sell at least 1,600 records per week.\n",
        "Goal 2 Earn a profit of at least \\$2,200 per week.\n",
        "Goal 3 Full-time employees should work at most 100 hours\n",
        "of overtime.\n",
        "Goal 4 To increase their sense of job security, the number\n",
        "of hours by which each full-time employee fails to work 40\n",
        "hours should be minimized.\n",
        "Formulate a preemptive goal programming model that could\n",
        "be used to determine how many hours per week each employee should work."
      ],
      "metadata": {
        "id": "aIP3jJcurENa"
      }
    },
    {
      "cell_type": "code",
      "source": [
        "!pip install pulp"
      ],
      "metadata": {
        "colab": {
          "base_uri": "https://localhost:8080/"
        },
        "id": "tJz9RG9IrEjW",
        "outputId": "eae595f5-24cd-433d-ced2-43e1d6f0d35e"
      },
      "execution_count": null,
      "outputs": [
        {
          "output_type": "stream",
          "name": "stdout",
          "text": [
            "Collecting pulp\n",
            "  Downloading pulp-3.2.2-py3-none-any.whl.metadata (6.9 kB)\n",
            "Downloading pulp-3.2.2-py3-none-any.whl (16.4 MB)\n",
            "\u001b[2K   \u001b[90m━━━━━━━━━━━━━━━━━━━━━━━━━━━━━━━━━━━━━━━━\u001b[0m \u001b[32m16.4/16.4 MB\u001b[0m \u001b[31m57.6 MB/s\u001b[0m eta \u001b[36m0:00:00\u001b[0m\n",
            "\u001b[?25hInstalling collected packages: pulp\n",
            "Successfully installed pulp-3.2.2\n"
          ]
        }
      ]
    },
    {
      "cell_type": "code",
      "execution_count": null,
      "metadata": {
        "colab": {
          "base_uri": "https://localhost:8080/"
        },
        "id": "DM5us0f9q_3t",
        "outputId": "5ceaa715-e919-42b4-e323-9b0b462f80fe"
      },
      "outputs": [
        {
          "output_type": "stream",
          "name": "stdout",
          "text": [
            "Stage1: d1_minus* = 0.0\n",
            "Stage2: d2_minus* = 0.0\n",
            "Stage3: d3_plus* = 8.0\n",
            "Stage4: sum d4_minus* = 0.0\n",
            "\n",
            "Solution (hours):\n",
            " FT 0: regular=40.0, overtime=108.0, shortfall_from40=0.0\n",
            " FT 1: regular=40.0, overtime=0.0, shortfall_from40=0.0\n",
            " FT 2: regular=40.0, overtime=0.0, shortfall_from40=0.0\n",
            " FT 3: regular=40.0, overtime=0.0, shortfall_from40=0.0\n",
            " FT 4: regular=40.0, overtime=0.0, shortfall_from40=0.0\n",
            " PT 0: hours=20.0\n",
            " PT 1: hours=20.0\n",
            " PT 2: hours=20.0\n",
            "\n",
            "Totals:\n",
            " Records sold R = 1720.0\n",
            " Profit = 2200.0\n",
            " Total overtime = 108.0\n",
            " Deviations: d1_minus,d2_minus,d3_plus = 0.0 0.0 8.0\n"
          ]
        }
      ],
      "source": [
        "import pulp\n",
        "\n",
        "# --- Model and variables --- #\n",
        "# indexes #\n",
        "FT = range(5)   # full-time employees 0..4\n",
        "PT = range(3)   # part-time 0..2\n",
        "\n",
        "# Variables #\n",
        "r = {i: pulp.LpVariable(f\"r_{i}\", lowBound=0, upBound=40) for i in FT}   # regular hours\n",
        "o = {i: pulp.LpVariable(f\"o_{i}\", lowBound=0) for i in FT}               # overtime hours\n",
        "p = {j: pulp.LpVariable(f\"p_{j}\", lowBound=0, upBound=20) for j in PT}  # part-time hours\n",
        "\n",
        "# Deviations #\n",
        "# Goal 1 #\n",
        "d1_minus = pulp.LpVariable(\"d1_minus\", lowBound=0)\n",
        "d1_plus  = pulp.LpVariable(\"d1_plus\",  lowBound=0)\n",
        "\n",
        "# Goal 2 #\n",
        "d2_minus = pulp.LpVariable(\"d2_minus\", lowBound=0)\n",
        "d2_plus  = pulp.LpVariable(\"d2_plus\",  lowBound=0)\n",
        "\n",
        "\n",
        "# Goal 3 #\n",
        "d3_minus = pulp.LpVariable(\"d3_minus\", lowBound=0)\n",
        "d3_plus  = pulp.LpVariable(\"d3_plus\",  lowBound=0)\n",
        "\n",
        "# Goal 4 #\n",
        "d4_minus = {i: pulp.LpVariable(f\"d4_{i}_minus\", lowBound=0) for i in FT}\n",
        "d4_plus  = {i: pulp.LpVariable(f\"d4_{i}_plus\",  lowBound=0) for i in FT}\n",
        "\n",
        "# Helper Expressions (as pulp sums) #\n",
        "R = 5 * pulp.lpSum((r[i] + o[i]) for i in FT) + 3 * pulp.lpSum(p[j] for j in PT)\n",
        "W = 6 * pulp.lpSum(r[i] for i in FT) + 10 * pulp.lpSum(o[i] for i in FT) + 3 * pulp.lpSum(p[j] for j in PT)\n",
        "Profit = 3 * R - W - 500\n",
        "\n",
        "# Create base problem (we will change objective between stages) #\n",
        "prob = pulp.LpProblem(\"Ricky_RecordStore_GoalProg\", pulp.LpMinimize)\n",
        "\n",
        "# --- Goal Equations / Constraints --- #\n",
        "# Goal 1: Records Target #\n",
        "prob += R + d1_minus - d1_plus == 1600\n",
        "\n",
        "# Goal 2: Profit Target #\n",
        "prob += Profit + d2_minus - d2_plus == 2200\n",
        "\n",
        "# Goal 3: overtime target (total overtime <= 100) #\n",
        "prob += pulp.lpSum(o[i] for i in FT) + d3_minus - d3_plus == 100\n",
        "\n",
        "# Goal 4: each full-time should be 40 hours (minimize shortfall) #\n",
        "for i in FT:\n",
        "    prob += r[i] + o[i] + d4_minus[i] - d4_plus[i] == 40\n",
        "\n",
        "# (Bounds on r, p were set when creating variables) #\n",
        "\n",
        "# --- Preemptive solving sequence --- #\n",
        "# Stage 1: minimize d1_minus (sales shortfall) #\n",
        "prob.setObjective(d1_minus)\n",
        "prob.solve()\n",
        "D1_opt = pulp.value(d1_minus)\n",
        "print(\"Stage1: d1_minus* =\", D1_opt)\n",
        "\n",
        "# Fix Stage1 #\n",
        "prob += d1_minus == D1_opt\n",
        "\n",
        "# Stage 2: minimize d2_minus (profit shortfall) #\n",
        "prob.setObjective(d2_minus)\n",
        "prob.solve()\n",
        "D2_opt = pulp.value(d2_minus)\n",
        "print(\"Stage2: d2_minus* =\", D2_opt)\n",
        "\n",
        "# Fix Stage2 #\n",
        "prob += d2_minus == D2_opt\n",
        "\n",
        "# Stage 3: minimize d3_plus (overtime excess) #\n",
        "prob.setObjective(d3_plus)\n",
        "prob.solve()\n",
        "D3_opt = pulp.value(d3_plus)\n",
        "print(\"Stage3: d3_plus* =\", D3_opt)\n",
        "\n",
        "# Fix Stage3 #\n",
        "prob += d3_plus == D3_opt\n",
        "\n",
        "# Stage 4: minimize sum of d4_minus (individual FT shortfalls from 40) #\n",
        "prob.setObjective(pulp.lpSum(d4_minus[i] for i in FT))\n",
        "prob.solve()\n",
        "D4_opt = sum(pulp.value(d4_minus[i]) for i in FT)\n",
        "print(\"Stage4: sum d4_minus* =\", D4_opt)\n",
        "\n",
        "# --- Report Solution --- $\n",
        "print(\"\\nSolution (hours):\")\n",
        "for i in FT:\n",
        "    print(f\" FT {i}: regular={pulp.value(r[i])}, overtime={pulp.value(o[i])}, shortfall_from40={pulp.value(d4_minus[i])}\")\n",
        "for j in PT:\n",
        "    print(f\" PT {j}: hours={pulp.value(p[j])}\")\n",
        "\n",
        "print(\"\\nTotals:\")\n",
        "print(\" Records sold R =\", pulp.value(R))\n",
        "print(\" Profit =\", pulp.value(Profit))\n",
        "print(\" Total overtime =\", sum(pulp.value(o[i]) for i in FT))\n",
        "print(\" Deviations: d1_minus,d2_minus,d3_plus =\", pulp.value(d1_minus), pulp.value(d2_minus), pulp.value(d3_plus))\n"
      ]
    }
  ]
}