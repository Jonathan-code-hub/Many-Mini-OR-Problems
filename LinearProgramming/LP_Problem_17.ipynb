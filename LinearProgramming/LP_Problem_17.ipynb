{
  "nbformat": 4,
  "nbformat_minor": 0,
  "metadata": {
    "colab": {
      "provenance": [],
      "authorship_tag": "ABX9TyMTLBHPRMDAMnA8BKHv/l+m",
      "include_colab_link": true
    },
    "kernelspec": {
      "name": "python3",
      "display_name": "Python 3"
    },
    "language_info": {
      "name": "python"
    }
  },
  "cells": [
    {
      "cell_type": "markdown",
      "metadata": {
        "id": "view-in-github",
        "colab_type": "text"
      },
      "source": [
        "<a href=\"https://colab.research.google.com/github/Jonathan-code-hub/Many-Mini-OR-Problems/blob/main/LinearProgramming/LP_Problem17.ipynb\" target=\"_parent\"><img src=\"https://colab.research.google.com/assets/colab-badge.svg\" alt=\"Open In Colab\"/></a>"
      ]
    },
    {
      "cell_type": "markdown",
      "source": [
        "Problem 17: Use the simplex algorithm to find the optimal solution to the following LP:\n",
        "$$\n",
        "\\begin{array}{lr}\n",
        "\\max z=5 x_1-x_2 \\\\\n",
        "\\text { s.t. } \\quad x_1-3 x_2 \\leq 1 \\\\\n",
        "\\\\\n",
        "x_1-4 x_2 \\leq 3 \\\\\n",
        "\\\\\n",
        "x_1, x_2 \\geq 0\n",
        "\\end{array}\n",
        "$$\n"
      ],
      "metadata": {
        "id": "C2KJQ-xdNiIE"
      }
    },
    {
      "cell_type": "code",
      "source": [
        "!pip install pulp"
      ],
      "metadata": {
        "colab": {
          "base_uri": "https://localhost:8080/"
        },
        "id": "wMkVBbXqNjCR",
        "outputId": "bc4ddaaf-920b-4dc4-aace-1f3962b87a52"
      },
      "execution_count": 5,
      "outputs": [
        {
          "output_type": "stream",
          "name": "stdout",
          "text": [
            "Requirement already satisfied: pulp in /usr/local/lib/python3.12/dist-packages (3.2.2)\n"
          ]
        }
      ]
    },
    {
      "cell_type": "code",
      "execution_count": 8,
      "metadata": {
        "colab": {
          "base_uri": "https://localhost:8080/"
        },
        "id": "P3IDwdLCMoyN",
        "outputId": "e1d97396-2c98-4a49-b4be-1d3be3779f6d"
      },
      "outputs": [
        {
          "output_type": "stream",
          "name": "stdout",
          "text": [
            "z: 5.0\n"
          ]
        }
      ],
      "source": [
        "from pulp import LpProblem, LpMaximize, LpVariable, value\n",
        "z = LpProblem('z',LpMaximize)\n",
        "\n",
        "# Variables #\n",
        "xOne = LpVariable('xOne', lowBound = 0)\n",
        "xTwo = LpVariable('xTwo', lowBound = 0)\n",
        "\n",
        "# Objective Function #\n",
        "z += 5*xOne - xTwo\n",
        "\n",
        "\n",
        "# Constraints #\n",
        "z += xOne - 3*xTwo <= 1\n",
        "z += xOne - 4*xTwo <= 3\n",
        "\n",
        "# Results #\n",
        "z.solve()\n",
        "print(\"z:\", value(z.objective))\n"
      ]
    }
  ]
}
