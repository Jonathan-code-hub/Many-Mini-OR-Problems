{
  "nbformat": 4,
  "nbformat_minor": 0,
  "metadata": {
    "colab": {
      "provenance": [],
      "authorship_tag": "ABX9TyMFm/uFQq3l7trHySwEWFCO",
      "include_colab_link": true
    },
    "kernelspec": {
      "name": "python3",
      "display_name": "Python 3"
    },
    "language_info": {
      "name": "python"
    }
  },
  "cells": [
    {
      "cell_type": "markdown",
      "metadata": {
        "id": "view-in-github",
        "colab_type": "text"
      },
      "source": [
        "<a href=\"https://colab.research.google.com/github/Jonathan-code-hub/Many-Mini-OR-Problems/blob/main/LinearProgramming/LP_Problem_12.ipynb\" target=\"_parent\"><img src=\"https://colab.research.google.com/assets/colab-badge.svg\" alt=\"Open In Colab\"/></a>"
      ]
    },
    {
      "cell_type": "markdown",
      "source": [
        "Problem 12: Ghostbusters, Inc., exorcises (gets rid of) ghosts.\n",
        "During each of the next three months, the company will\n",
        "receive the following number of calls from people who want\n",
        "their ghosts exorcised: January, 100 calls; February, 300\n",
        "calls; March, 200 calls. Ghostbusters is paid \\$800 for each\n",
        "ghost exorcised during the month in which the customer\n",
        "calls. Calls need not be responded to during the month they\n",
        "are made, but if a call is responded to one month after it is\n",
        "made, then Ghostbusters loses $100 in future goodwill, and\n",
        "if a call is responded to two months after it is made,\n",
        "Ghostbusters loses \\$200 in goodwill. Each employee of\n",
        "Ghostbusters can exorcise 10 ghosts during a month. Each\n",
        "employee is paid a salary of \\$4,000 per month. At the\n",
        "beginning of January, the company has 8 workers. Workers\n",
        "can be hired and trained (in 0 time) at a cost of \\$5,000 per\n",
        "worker. Workers can be fired at a cost of \\$4,000 per worker.\n",
        "Formulate an LP to maximize Ghostbusters’ profit (revenue\n",
        "less costs) over the next three months. Assume that all calls\n",
        "must be handled by the end of March."
      ],
      "metadata": {
        "id": "8a7936U6Ws80"
      }
    },
    {
      "cell_type": "code",
      "source": [
        "!pip install pulp"
      ],
      "metadata": {
        "id": "V7gy-e7GWsxr",
        "colab": {
          "base_uri": "https://localhost:8080/"
        },
        "outputId": "422365b6-ac04-4c9a-aa25-8bdb70edea84"
      },
      "execution_count": 2,
      "outputs": [
        {
          "output_type": "stream",
          "name": "stdout",
          "text": [
            "Collecting pulp\n",
            "  Downloading pulp-3.2.2-py3-none-any.whl.metadata (6.9 kB)\n",
            "Downloading pulp-3.2.2-py3-none-any.whl (16.4 MB)\n",
            "\u001b[2K   \u001b[90m━━━━━━━━━━━━━━━━━━━━━━━━━━━━━━━━━━━━━━━━\u001b[0m \u001b[32m16.4/16.4 MB\u001b[0m \u001b[31m63.2 MB/s\u001b[0m eta \u001b[36m0:00:00\u001b[0m\n",
            "\u001b[?25hInstalling collected packages: pulp\n",
            "Successfully installed pulp-3.2.2\n"
          ]
        }
      ]
    },
    {
      "cell_type": "code",
      "execution_count": 3,
      "metadata": {
        "id": "FRfwkpK6WprM",
        "colab": {
          "base_uri": "https://localhost:8080/"
        },
        "outputId": "500da527-783f-4977-d5b6-4349577cfa7c"
      },
      "outputs": [
        {
          "output_type": "stream",
          "name": "stdout",
          "text": [
            "Status: Optimal\n",
            "Max Profit: $150,000.00\n",
            "\n",
            "Workforce plan (W=workers, H=hire, F=fire):\n",
            " Month 1: W=10, H=2, F=0\n",
            " Month 2: W=25, H=15, F=0\n",
            " Month 3: W=25, H=0, F=0\n",
            "\n",
            "Service plan (calls served by cohort/delay):\n",
            " Jan cohort: on-time=100.0, +1mo=0.0, +2mo=0.0\n",
            " Feb cohort: on-time=250.0, +1mo=50.0\n",
            " Mar cohort: on-time=200.0\n",
            "\n",
            "Capacity check (used <= available):\n",
            " Jan used=100.0 / cap=100.0\n",
            " Feb used=250.0 / cap=250.0\n",
            " Mar used=250.0 / cap=250.0\n"
          ]
        }
      ],
      "source": [
        "from pulp import LpProblem, LpMaximize, LpVariable, LpInteger, lpSum, value, LpStatus\n",
        "\n",
        "# --- Data --- #\n",
        "months = [1,2,3]            # 1=Jan, 2=Feb, 3=Mar\n",
        "D = {1:100, 2:300, 3:200}   # calls arriving\n",
        "cap_per_worker = 10\n",
        "\n",
        "rev = 800\n",
        "pen1 = 100   # 1-month delay\n",
        "pen2 = 200   # 2-month delay\n",
        "salary = 4000\n",
        "hire_cost = 5000\n",
        "fire_cost = 4000\n",
        "W0 = 8\n",
        "\n",
        "# --- Model --- #\n",
        "m = LpProblem(\"Ghostbusters_Workforce_and_Scheduling\", LpMaximize)\n",
        "\n",
        "# Workforce variables (integers) #\n",
        "W  = {t: LpVariable(f\"W_{t}\",  lowBound=0, cat=LpInteger) for t in months}\n",
        "H  = {t: LpVariable(f\"H_{t}\",  lowBound=0, cat=LpInteger) for t in months}\n",
        "F  = {t: LpVariable(f\"F_{t}\",  lowBound=0, cat=LpInteger) for t in months}\n",
        "\n",
        "# Service variables by cohort and delay (continuous, calls can be fractional in LP; add Integer if needed) #\n",
        "x_10 = LpVariable(\"x_1_0\", lowBound=0)  # Jan calls served in Jan\n",
        "x_11 = LpVariable(\"x_1_1\", lowBound=0)  # Jan calls served in Feb\n",
        "x_12 = LpVariable(\"x_1_2\", lowBound=0)  # Jan calls served in Mar\n",
        "\n",
        "x_20 = LpVariable(\"x_2_0\", lowBound=0)  # Feb calls served in Feb\n",
        "x_21 = LpVariable(\"x_2_1\", lowBound=0)  # Feb calls served in Mar\n",
        "\n",
        "x_30 = LpVariable(\"x_3_0\", lowBound=0)  # Mar calls served in Mar\n",
        "\n",
        "# Objective: revenue - penalties - salaries - hire/fire #\n",
        "total_calls = x_10 + x_11 + x_12 + x_20 + x_21 + x_30\n",
        "penalties   = pen1*(x_11 + x_21) + pen2*(x_12)\n",
        "\n",
        "m += rev*total_calls - penalties \\\n",
        "     - salary*lpSum(W[t] for t in months) \\\n",
        "     - hire_cost*lpSum(H[t] for t in months) \\\n",
        "     - fire_cost*lpSum(F[t] for t in months)\n",
        "\n",
        "# Cohort completion (all calls done by end of March) #\n",
        "m += x_10 + x_11 + x_12 == D[1]   # January cohort\n",
        "m += x_20 + x_21        == D[2]   # February cohort\n",
        "m += x_30               == D[3]   # March cohort\n",
        "\n",
        "# Monthly capacity constraints #\n",
        "m += x_10                  <= cap_per_worker * W[1]                         # Jan\n",
        "m += x_11 + x_20           <= cap_per_worker * W[2]                         # Feb\n",
        "m += x_12 + x_21 + x_30    <= cap_per_worker * W[3]                         # Mar\n",
        "\n",
        "# Workforce balance (hire/fire at the start of month) #\n",
        "m += W[1] == W0 + H[1] - F[1]\n",
        "m += W[2] == W[1] + H[2] - F[2]\n",
        "m += W[3] == W[2] + H[3] - F[3]\n",
        "\n",
        "# Solve #\n",
        "m.solve()\n",
        "\n",
        "# Report #\n",
        "print(\"Status:\", LpStatus[m.status])\n",
        "print(f\"Max Profit: ${value(m.objective):,.2f}\\n\")\n",
        "\n",
        "print(\"Workforce plan (W=workers, H=hire, F=fire):\")\n",
        "for t in months:\n",
        "    print(f\" Month {t}: W={int(W[t].value())}, H={int(H[t].value())}, F={int(F[t].value())}\")\n",
        "\n",
        "print(\"\\nService plan (calls served by cohort/delay):\")\n",
        "print(f\" Jan cohort: on-time={x_10.value():.1f}, +1mo={x_11.value():.1f}, +2mo={x_12.value():.1f}\")\n",
        "print(f\" Feb cohort: on-time={x_20.value():.1f}, +1mo={x_21.value():.1f}\")\n",
        "print(f\" Mar cohort: on-time={x_30.value():.1f}\")\n",
        "\n",
        "# Sanity checks #\n",
        "jan_cap = cap_per_worker * W[1].value()\n",
        "feb_cap = cap_per_worker * W[2].value()\n",
        "mar_cap = cap_per_worker * W[3].value()\n",
        "print(\"\\nCapacity check (used <= available):\")\n",
        "print(f\" Jan used={x_10.value():.1f} / cap={jan_cap:.1f}\")\n",
        "print(f\" Feb used={(x_11.value()+x_20.value()):.1f} / cap={feb_cap:.1f}\")\n",
        "print(f\" Mar used={(x_12.value()+x_21.value()+x_30.value()):.1f} / cap={mar_cap:.1f}\")\n"
      ]
    }
  ]
}