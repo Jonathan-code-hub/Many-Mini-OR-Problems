{
  "nbformat": 4,
  "nbformat_minor": 0,
  "metadata": {
    "colab": {
      "provenance": [],
      "authorship_tag": "ABX9TyNLwyguKJDDdhLjlcxPHl5q",
      "include_colab_link": true
    },
    "kernelspec": {
      "name": "python3",
      "display_name": "Python 3"
    },
    "language_info": {
      "name": "python"
    }
  },
  "cells": [
    {
      "cell_type": "markdown",
      "metadata": {
        "id": "view-in-github",
        "colab_type": "text"
      },
      "source": [
        "<a href=\"https://colab.research.google.com/github/Jonathan-code-hub/Many-Mini-OR-Problems/blob/main/LinearProgramming/LP_Problem_11.ipynb\" target=\"_parent\"><img src=\"https://colab.research.google.com/assets/colab-badge.svg\" alt=\"Open In Colab\"/></a>"
      ]
    },
    {
      "cell_type": "markdown",
      "source": [
        "Problem 11: During the next three months, Steelco faces the following demands for steel: 100 tons (month 1); 200 tons (month 2); 50 tons (month 3). During any month, a worker can produce up to 15 tons of steel. Each worker is paid $\\$ 5,000$ per month. Workers can be hired or fired at a cost of $\\$ 3,000$ per worker fired and $\\$ 4,000$ per worker hired (it takes 0 time to hire a worker). The cost of holding a ton of steel in inventory for one month is $\\$ 100$. Demand may be backlogged at a cost of $\\$ 70$ per ton month. That is, if 1 ton of month 1 demand is met during month 3 , then a backlogging cost of $\\$ 140$ is incurred. At the beginning of month 1, Steelco has 8 workers. During any month, at most 2 workers can be hired. All demand must be met by the end of month 3. The raw material used to produce a ton of steel costs $\\$ 300$. Formulate an LP to minimize Steelco's costs."
      ],
      "metadata": {
        "id": "LhHOJ131mPf_"
      }
    },
    {
      "cell_type": "code",
      "source": [
        "!pip install pulp"
      ],
      "metadata": {
        "id": "JiUiR48amPzj",
        "colab": {
          "base_uri": "https://localhost:8080/"
        },
        "outputId": "51ec66c1-5500-43ab-85d4-94b93c3d6284"
      },
      "execution_count": 1,
      "outputs": [
        {
          "output_type": "stream",
          "name": "stdout",
          "text": [
            "Collecting pulp\n",
            "  Downloading pulp-3.2.2-py3-none-any.whl.metadata (6.9 kB)\n",
            "Downloading pulp-3.2.2-py3-none-any.whl (16.4 MB)\n",
            "\u001b[2K   \u001b[90m━━━━━━━━━━━━━━━━━━━━━━━━━━━━━━━━━━━━━━━━\u001b[0m \u001b[32m16.4/16.4 MB\u001b[0m \u001b[31m62.5 MB/s\u001b[0m eta \u001b[36m0:00:00\u001b[0m\n",
            "\u001b[?25hInstalling collected packages: pulp\n",
            "Successfully installed pulp-3.2.2\n"
          ]
        }
      ]
    },
    {
      "cell_type": "code",
      "execution_count": 5,
      "metadata": {
        "id": "ssW4aFMVl1e-",
        "colab": {
          "base_uri": "https://localhost:8080/"
        },
        "outputId": "81c5d1c9-aa4c-4a06-9b7d-1de5a2975fe6"
      },
      "outputs": [
        {
          "output_type": "stream",
          "name": "stdout",
          "text": [
            "Status: Optimal\n",
            "Total Cost = 230900.0\n",
            "Month 1:\n",
            "  Workers = 8.0\n",
            "  Hire = 0.0  Fire = 0.0\n",
            "  Production = 110.0\n",
            "  Inventory = 10.0\n",
            "  Backlog = 0.0\n",
            "Month 2:\n",
            "  Workers = 8.0\n",
            "  Hire = 0.0  Fire = 0.0\n",
            "  Production = 120.0\n",
            "  Inventory = 0.0\n",
            "  Backlog = 70.0\n",
            "Month 3:\n",
            "  Workers = 8.0\n",
            "  Hire = 0.0  Fire = 0.0\n",
            "  Production = 120.0\n",
            "  Inventory = 0.0\n",
            "  Backlog = 0.0\n"
          ]
        }
      ],
      "source": [
        "import pulp\n",
        "\n",
        "# Parameters #\n",
        "months = [1, 2, 3]\n",
        "demand = {1: 100, 2: 200, 3: 50}\n",
        "prod_per_worker = 15\n",
        "worker_cost = 5000\n",
        "hire_cost = 4000\n",
        "fire_cost = 3000\n",
        "inv_cost = 100\n",
        "backlog_cost = 70\n",
        "material_cost = 300\n",
        "initial_workers = 8\n",
        "max_hire = 2\n",
        "\n",
        "# LP model #\n",
        "model = pulp.LpProblem(\"Steelco_Production_Planning\", pulp.LpMinimize)\n",
        "\n",
        "# Decision variables #\n",
        "x = pulp.LpVariable.dicts(\"Production\", months, lowBound=0)\n",
        "I = pulp.LpVariable.dicts(\"Inventory\", months, lowBound=0)\n",
        "B = pulp.LpVariable.dicts(\"Backlog\", months, lowBound=0)\n",
        "W = pulp.LpVariable.dicts(\"Workers\", months, lowBound=0, cat = \"Integer\")\n",
        "H = pulp.LpVariable.dicts(\"Hire\", months, lowBound=0, cat = \"Integer\")\n",
        "F = pulp.LpVariable.dicts(\"Fire\", months, lowBound=0, cat = \"Integer\")\n",
        "\n",
        "# Objective function #\n",
        "model += pulp.lpSum([\n",
        "    worker_cost * W[t] +\n",
        "    hire_cost * H[t] +\n",
        "    fire_cost * F[t] +\n",
        "    material_cost * x[t] +\n",
        "    inv_cost * I[t] +\n",
        "    backlog_cost * B[t]\n",
        "    for t in months\n",
        "])\n",
        "\n",
        "# Constraints #\n",
        "for t in months:\n",
        "    # Production capacity #\n",
        "    model += x[t] <= prod_per_worker * W[t]\n",
        "\n",
        "    # Worker balance #\n",
        "    if t == 1:\n",
        "        model += W[t] == initial_workers + H[t] - F[t]\n",
        "    else:\n",
        "        model += W[t] == W[t-1] + H[t] - F[t]\n",
        "\n",
        "    # Hiring limit #\n",
        "    model += H[t] <= max_hire\n",
        "\n",
        "    # Inventory/backlog balance #\n",
        "    if t == 1:\n",
        "        model += I[t] - B[t] == x[t] - demand[t]\n",
        "    else:\n",
        "        model += I[t] - B[t] == I[t-1] - B[t-1] + x[t] - demand[t]\n",
        "\n",
        "# Final conditions: no inventory or backlog left at end #\n",
        "model += I[3] == 0\n",
        "model += B[3] == 0\n",
        "\n",
        "# Solve #\n",
        "model.solve(pulp.PULP_CBC_CMD(msg=0))\n",
        "\n",
        "# Print results #\n",
        "print(\"Status:\", pulp.LpStatus[model.status])\n",
        "print(\"Total Cost =\", pulp.value(model.objective))\n",
        "for t in months:\n",
        "    print(f\"Month {t}:\")\n",
        "    print(\"  Workers =\", W[t].varValue)\n",
        "    print(\"  Hire =\", H[t].varValue, \" Fire =\", F[t].varValue)\n",
        "    print(\"  Production =\", x[t].varValue)\n",
        "    print(\"  Inventory =\", I[t].varValue)\n",
        "    print(\"  Backlog =\", B[t].varValue)\n"
      ]
    }
  ]
}