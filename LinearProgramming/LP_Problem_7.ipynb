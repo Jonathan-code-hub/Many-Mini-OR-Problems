{
  "nbformat": 4,
  "nbformat_minor": 0,
  "metadata": {
    "colab": {
      "provenance": [],
      "authorship_tag": "ABX9TyOiKB1F+Y3MnUEDebzgq+4j",
      "include_colab_link": true
    },
    "kernelspec": {
      "name": "python3",
      "display_name": "Python 3"
    },
    "language_info": {
      "name": "python"
    }
  },
  "cells": [
    {
      "cell_type": "markdown",
      "metadata": {
        "id": "view-in-github",
        "colab_type": "text"
      },
      "source": [
        "<a href=\"https://colab.research.google.com/github/Jonathan-code-hub/Many-Mini-OR-Problems/blob/main/LP_Problem_7.ipynb\" target=\"_parent\"><img src=\"https://colab.research.google.com/assets/colab-badge.svg\" alt=\"Open In Colab\"/></a>"
      ]
    },
    {
      "cell_type": "markdown",
      "source": [
        "Problem 7: To process income tax forms, the IRS first sends each\n",
        "form through the data preparation (DP) department, where\n",
        "information is coded for computer entry. Then the form is\n",
        "sent to data entry (DE), where it is entered into the computer.\n",
        "During the next three weeks, the following number of forms\n",
        "will arrive: week 1, 40,000; week 2, 30,000; week 3, 60,000.\n",
        "The IRS meets the crunch by hiring employees who work\n",
        "40 hours per week and are paid \\$200 per week. Data\n",
        "preparation of a form requires 15 minutes, and data entry of\n",
        "a form requires 10 minutes. Each week, an employee is\n",
        "assigned to either data entry or data preparation. The IRS\n",
        "must complete processing of all forms by the end of week\n",
        "5 and wants to minimize the cost of accomplishing this\n",
        "goal. Formulate an LP that will determine how many workers\n",
        "should be working each week and how the workers should\n",
        "be assigned over the next five weeks."
      ],
      "metadata": {
        "id": "-KKbdZ6rJYhC"
      }
    },
    {
      "cell_type": "code",
      "source": [
        "!pip install pulp"
      ],
      "metadata": {
        "colab": {
          "base_uri": "https://localhost:8080/"
        },
        "id": "7CYB7JZMJYug",
        "outputId": "c577f554-0c0b-4d9e-8eab-5ca25ad2218a"
      },
      "execution_count": 1,
      "outputs": [
        {
          "output_type": "stream",
          "name": "stdout",
          "text": [
            "Collecting pulp\n",
            "  Downloading pulp-3.2.2-py3-none-any.whl.metadata (6.9 kB)\n",
            "Downloading pulp-3.2.2-py3-none-any.whl (16.4 MB)\n",
            "\u001b[2K   \u001b[90m━━━━━━━━━━━━━━━━━━━━━━━━━━━━━━━━━━━━━━━━\u001b[0m \u001b[32m16.4/16.4 MB\u001b[0m \u001b[31m64.1 MB/s\u001b[0m eta \u001b[36m0:00:00\u001b[0m\n",
            "\u001b[?25hInstalling collected packages: pulp\n",
            "Successfully installed pulp-3.2.2\n"
          ]
        }
      ]
    },
    {
      "cell_type": "code",
      "execution_count": 28,
      "metadata": {
        "colab": {
          "base_uri": "https://localhost:8080/"
        },
        "id": "f7B9GqNHJMCF",
        "outputId": "8be10035-f35e-4dc6-fc98-c4959da20ae3"
      },
      "outputs": [
        {
          "output_type": "stream",
          "name": "stdout",
          "text": [
            "Total Employees: 272\n",
            "Data Prep Employees: 109\n",
            "Data Entry Employees: 163\n",
            "Cost: $272000.00\n"
          ]
        }
      ],
      "source": [
        "from pulp import LpProblem, LpVariable, LpMinimize, value\n",
        "\n",
        "# This solution while technically not optimal, is more advisable for reworld constraints #\n",
        "# We could rewrite this if we decide to hire on a weekly basis instead of all at once #\n",
        "def IRS_Forms_Solver(forms):\n",
        "  LP = LpProblem('', LpMinimize)\n",
        "  # Variables #\n",
        "  employee_Prep = LpVariable('employee_Prep', lowBound = 0, cat = 'Integer')\n",
        "  employee_Data = LpVariable('employee_Data', lowBound = 0, cat = 'Integer')\n",
        "\n",
        "  # Objective Function #\n",
        "  LP += 5*200*employee_Prep + 5*200*employee_Data\n",
        "\n",
        "  # Constraints #\n",
        "  LP += employee_Prep*2400*5 >= 15*forms\n",
        "  LP += employee_Data*2400*5  >=  10*forms\n",
        "\n",
        "  LP.solve()\n",
        "  return employee_Data.value(), employee_Prep.value(), value(LP.objective)\n",
        "\n",
        "\n",
        "solution = IRS_Forms_Solver(130000)\n",
        "print(\"Total Employees:\", int(solution[0] + solution[1]))\n",
        "print(\"Data Prep Employees:\", int(solution[0]))\n",
        "print(\"Data Entry Employees:\", int(solution[1]))\n",
        "print(f'Cost: ${solution[2]:.2f}')\n"
      ]
    }
  ]
}
