{
  "nbformat": 4,
  "nbformat_minor": 0,
  "metadata": {
    "colab": {
      "provenance": [],
      "authorship_tag": "ABX9TyNTgUPEpTo9jHJS4HTCYLZh",
      "include_colab_link": true
    },
    "kernelspec": {
      "name": "python3",
      "display_name": "Python 3"
    },
    "language_info": {
      "name": "python"
    }
  },
  "cells": [
    {
      "cell_type": "markdown",
      "metadata": {
        "id": "view-in-github",
        "colab_type": "text"
      },
      "source": [
        "<a href=\"https://colab.research.google.com/github/Jonathan-code-hub/Many-Mini-OR-Problems/blob/main/LinearProgramming/LP_Problem_13.ipynb\" target=\"_parent\"><img src=\"https://colab.research.google.com/assets/colab-badge.svg\" alt=\"Open In Colab\"/></a>"
      ]
    },
    {
      "cell_type": "markdown",
      "source": [
        "Problem 13: Alexis Cornby makes her living buying and selling corn.\n",
        "On January 1, she has 50 tons of corn and \\$1,000. On the\n",
        "first day of each month Alexis can buy corn at the following\n",
        "prices per ton: January, \\$300; February, \\$350; March, \\$400;\n",
        "April, \\$500. On the last day of each month, Alexis can sell\n",
        "corn at the following prices per ton: January, \\$250; February,\n",
        "\\$400; March, \\$350; April, \\$550. Alexis stores her corn in a\n",
        "warehouse that can hold at most 100 tons of corn. She must\n",
        "be able to pay cash for all corn at the time of purchase. Use\n",
        "linear programming to determine how Alexis can maximize\n",
        "her cash on hand at the end of April."
      ],
      "metadata": {
        "id": "XnYBs-9Bp3gY"
      }
    },
    {
      "cell_type": "code",
      "source": [
        "!pip install pulp"
      ],
      "metadata": {
        "colab": {
          "base_uri": "https://localhost:8080/"
        },
        "id": "90Quwtv-p3Xy",
        "outputId": "268507de-f7a6-4a7c-b43e-ac95d6ef0695"
      },
      "execution_count": 2,
      "outputs": [
        {
          "output_type": "stream",
          "name": "stdout",
          "text": [
            "Collecting pulp\n",
            "  Downloading pulp-3.2.2-py3-none-any.whl.metadata (6.9 kB)\n",
            "Downloading pulp-3.2.2-py3-none-any.whl (16.4 MB)\n",
            "\u001b[2K   \u001b[90m━━━━━━━━━━━━━━━━━━━━━━━━━━━━━━━━━━━━━━━━\u001b[0m \u001b[32m16.4/16.4 MB\u001b[0m \u001b[31m48.2 MB/s\u001b[0m eta \u001b[36m0:00:00\u001b[0m\n",
            "\u001b[?25hInstalling collected packages: pulp\n",
            "Successfully installed pulp-3.2.2\n"
          ]
        }
      ]
    },
    {
      "cell_type": "code",
      "execution_count": 3,
      "metadata": {
        "colab": {
          "base_uri": "https://localhost:8080/"
        },
        "id": "tsGwPDU3pyXG",
        "outputId": "f8342647-77cc-4400-ad6b-69cd6877ccfc"
      },
      "outputs": [
        {
          "output_type": "stream",
          "name": "stdout",
          "text": [
            "Optimal cash at end of April: $ 29333.333\n",
            "Month 1: Buy=3.3 tons, Sell=0.0 tons, Inventory=53.3 tons, Cash=$0.00\n",
            "Month 2: Buy=0.0 tons, Sell=0.0 tons, Inventory=53.3 tons, Cash=$0.00\n",
            "Month 3: Buy=0.0 tons, Sell=0.0 tons, Inventory=53.3 tons, Cash=$0.00\n",
            "Month 4: Buy=0.0 tons, Sell=53.3 tons, Inventory=0.0 tons, Cash=$29333.33\n"
          ]
        }
      ],
      "source": [
        "from pulp import LpProblem, LpMaximize, LpVariable, lpSum, value\n",
        "\n",
        "# --- Data --- #\n",
        "months = [1,2,3,4]\n",
        "buy_price  = {1:300, 2:350, 3:400, 4:500}\n",
        "sell_price = {1:250, 2:400, 3:350, 4:550}\n",
        "warehouse_capacity = 100\n",
        "I0 = 50\n",
        "C0 = 1000\n",
        "\n",
        "# --- Model --- #\n",
        "m = LpProblem(\"Alexis_Corn_Trading\", LpMaximize)\n",
        "\n",
        "# Decision variables #\n",
        "B = {t: LpVariable(f\"B_{t}\", lowBound=0) for t in months}  # buy\n",
        "S = {t: LpVariable(f\"S_{t}\", lowBound=0) for t in months}  # sell\n",
        "I = {t: LpVariable(f\"I_{t}\", lowBound=0, upBound=warehouse_capacity) for t in months}  # inventory\n",
        "C = {t: LpVariable(f\"C_{t}\", lowBound=0) for t in months}  # cash\n",
        "\n",
        "# Inventory balance #\n",
        "for t in months:\n",
        "    if t == 1:\n",
        "        m += I[t] == I0 + B[t] - S[t]\n",
        "    else:\n",
        "        m += I[t] == I[t-1] + B[t] - S[t]\n",
        "\n",
        "# Cash balance #\n",
        "for t in months:\n",
        "    if t == 1:\n",
        "        m += C[t] == C0 - B[t]*buy_price[t] + S[t]*sell_price[t]\n",
        "    else:\n",
        "        m += C[t] == C[t-1] - B[t]*buy_price[t] + S[t]*sell_price[t]\n",
        "\n",
        "# Cash available for purchases #\n",
        "for t in months:\n",
        "    if t == 1:\n",
        "        m += B[t]*buy_price[t] <= C0\n",
        "    else:\n",
        "        m += B[t]*buy_price[t] <= C[t-1]\n",
        "\n",
        "# Objective: maximize cash at end of April #\n",
        "m += C[4]\n",
        "\n",
        "# Solve #\n",
        "m.solve()\n",
        "\n",
        "# Results #\n",
        "print(\"Optimal cash at end of April: $\", value(C[4]))\n",
        "for t in months:\n",
        "    print(f\"Month {t}: Buy={B[t].value():.1f} tons, Sell={S[t].value():.1f} tons, Inventory={I[t].value():.1f} tons, Cash=${C[t].value():.2f}\")\n"
      ]
    }
  ]
}