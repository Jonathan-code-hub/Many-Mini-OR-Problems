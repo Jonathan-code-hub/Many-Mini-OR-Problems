{
  "nbformat": 4,
  "nbformat_minor": 0,
  "metadata": {
    "colab": {
      "provenance": [],
      "authorship_tag": "ABX9TyPrpJqJ1WWQ8LBviLfjWIsw",
      "include_colab_link": true
    },
    "kernelspec": {
      "name": "python3",
      "display_name": "Python 3"
    },
    "language_info": {
      "name": "python"
    }
  },
  "cells": [
    {
      "cell_type": "markdown",
      "metadata": {
        "id": "view-in-github",
        "colab_type": "text"
      },
      "source": [
        "<a href=\"https://colab.research.google.com/github/Jonathan-code-hub/Many-Mini-OR-Problems/blob/main/LinearProgramming/LP_Problem_21.ipynb\" target=\"_parent\"><img src=\"https://colab.research.google.com/assets/colab-badge.svg\" alt=\"Open In Colab\"/></a>"
      ]
    },
    {
      "cell_type": "markdown",
      "source": [
        "Problem 21: Monroe County is trying to determine where to place the county fire station. The locations of the county's four major towns are given in Figure 31. Town 1 is at ( 10,20 ); town 2 is at $(60,20)$; town 3 is at $(40,30)$; town 4 is at ( 80 , 60 ). Town 1 averages 20 fires per year; town 2, 30 fires; town 3, 40 fires; and town 4, 25 fires. The county wants to build the fire station in a location that minimizes the average distance that a fire engine must travel to respond to a fire. Since most roads run in either an east-west or a north-south direction, we assume that the fire engine can only do the same. Thus, if the fire station were located at $(30,40)$ and a fire occurred at town 4 , the fire engine would have to $\\operatorname{travel}(80-30)+(60-40)=70$ miles to the fire. Use linear programming to determine where the fire station should be located. (Hint: If the fire station is to be located at the point $(x, y)$ and there is a town at the point $(a, b)$, define variables $e, w, n, s$ (east, west, north, south) that satisfy the equations $x-a=w-e$ and $y-b=n-s$. It should now be easy to obtain the correct LP formulation.)"
      ],
      "metadata": {
        "id": "VOomf0BftATu"
      }
    },
    {
      "cell_type": "code",
      "source": [
        "!pip install pulp"
      ],
      "metadata": {
        "colab": {
          "base_uri": "https://localhost:8080/"
        },
        "id": "COUcTN7OtAj1",
        "outputId": "3c555390-b180-4747-bb66-6ab707a10c3a"
      },
      "execution_count": 1,
      "outputs": [
        {
          "output_type": "stream",
          "name": "stdout",
          "text": [
            "Collecting pulp\n",
            "  Downloading pulp-3.3.0-py3-none-any.whl.metadata (8.4 kB)\n",
            "Downloading pulp-3.3.0-py3-none-any.whl (16.4 MB)\n",
            "\u001b[2K   \u001b[90m━━━━━━━━━━━━━━━━━━━━━━━━━━━━━━━━━━━━━━━━\u001b[0m \u001b[32m16.4/16.4 MB\u001b[0m \u001b[31m60.7 MB/s\u001b[0m eta \u001b[36m0:00:00\u001b[0m\n",
            "\u001b[?25hInstalling collected packages: pulp\n",
            "Successfully installed pulp-3.3.0\n"
          ]
        }
      ]
    },
    {
      "cell_type": "code",
      "execution_count": 3,
      "metadata": {
        "id": "z-f1YQ4js6UP",
        "colab": {
          "base_uri": "https://localhost:8080/"
        },
        "outputId": "66a0637c-568b-44bc-a1d5-f0020869ab11"
      },
      "outputs": [
        {
          "output_type": "stream",
          "name": "stdout",
          "text": [
            "Status: Optimal\n",
            "Objective (max profit) = $150,000.00\n",
            "\n",
            "Month 1: Workers W_1 = 10.00, H_1 = 2.00, F_1 = 0.00\n",
            "Month 2: Workers W_2 = 25.00, H_2 = 15.00, F_2 = 0.00\n",
            "Month 3: Workers W_3 = 25.00, H_3 = 0.00, F_3 = 0.00\n",
            "\n",
            "x_1_1 = 100.00  (arrived in 1, served in 1, revenue $800 each)\n",
            "x_1_2 = 0.00  (arrived in 1, served in 2, revenue $700 each)\n",
            "x_1_3 = 0.00  (arrived in 1, served in 3, revenue $600 each)\n",
            "x_2_2 = 250.00  (arrived in 2, served in 2, revenue $800 each)\n",
            "x_2_3 = 50.00  (arrived in 2, served in 3, revenue $700 each)\n",
            "x_3_3 = 200.00  (arrived in 3, served in 3, revenue $800 each)\n"
          ]
        }
      ],
      "source": [
        "from pulp import *\n",
        "\n",
        "import pulp\n",
        "\n",
        "# Variables #\n",
        "d = {1: 100, 2: 300, 3: 200}\n",
        "months = [1,2,3]\n",
        "\n",
        "revenue = {}\n",
        "for i in months:\n",
        "    for t in months:\n",
        "        if t < i:\n",
        "            continue\n",
        "        delay = t - i\n",
        "        if delay == 0:\n",
        "            revenue[(i,t)] = 800\n",
        "        elif delay == 1:\n",
        "            revenue[(i,t)] = 700\n",
        "        elif delay == 2:\n",
        "            revenue[(i,t)] = 600\n",
        "\n",
        "capacity_per_worker = 10\n",
        "salary = 4000\n",
        "hire_cost = 5000\n",
        "fire_cost = 4000\n",
        "W0 = 8\n",
        "\n",
        "model = pulp.LpProblem(\"Ghostbusters_Profit_Max\", pulp.LpMaximize)\n",
        "\n",
        "x = {}\n",
        "for i in months:\n",
        "    for t in months:\n",
        "        if t >= i:\n",
        "            x[(i,t)] = pulp.LpVariable(f\"x_{i}_{t}\", lowBound=0, cat='Continuous')\n",
        "\n",
        "W = {t: pulp.LpVariable(f\"W_{t}\", lowBound=0, cat='Continuous') for t in months}\n",
        "H = {t: pulp.LpVariable(f\"H_{t}\", lowBound=0, cat='Continuous') for t in months}\n",
        "F = {t: pulp.LpVariable(f\"F_{t}\", lowBound=0, cat='Continuous') for t in months}\n",
        "\n",
        "# Objective Function: total revenue - salaries - hire/fire costs #\n",
        "total_revenue = pulp.lpSum(revenue[(i,t)] * x[(i,t)] for (i,t) in x)\n",
        "total_salary = salary * pulp.lpSum(W[t] for t in months)\n",
        "total_hire_cost = hire_cost * pulp.lpSum(H[t] for t in months)\n",
        "total_fire_cost = fire_cost * pulp.lpSum(F[t] for t in months)\n",
        "\n",
        "model += (total_revenue - total_salary - total_hire_cost - total_fire_cost), \"Profit\"\n",
        "\n",
        "# Constraints #\n",
        "# 1) Each month's calls must be handled by end of March #\n",
        "for i in months:\n",
        "    model += pulp.lpSum(x[(i,t)] for t in months if t >= i) == d[i], f\"Demand_satisfied_{i}\"\n",
        "\n",
        "# 2) Capacity in each month #\n",
        "for t in months:\n",
        "    model += pulp.lpSum(x[(i,t)] for i in months if i <= t) <= capacity_per_worker * W[t], f\"Capacity_month_{t}\"\n",
        "\n",
        "# 3) Worker balance #\n",
        "for t in months:\n",
        "    if t == 1:\n",
        "        model += W[t] == W0 + H[t] - F[t], f\"Worker_balance_{t}\"\n",
        "    else:\n",
        "        model += W[t] == W[t-1] + H[t] - F[t], f\"Worker_balance_{t}\"\n",
        "\n",
        "# Solve #\n",
        "solver = pulp.PULP_CBC_CMD(msg=0)  # set msg=1 to see solver output\n",
        "model.solve(solver)\n",
        "\n",
        "# Results #\n",
        "print(\"Status:\", pulp.LpStatus[model.status])\n",
        "print(f\"Objective (max profit) = ${pulp.value(model.objective):,.2f}\\n\")\n",
        "\n",
        "for t in months:\n",
        "    print(f\"Month {t}: Workers W_{t} = {W[t].varValue:.2f}, H_{t} = {H[t].varValue:.2f}, F_{t} = {F[t].varValue:.2f}\")\n",
        "print()\n",
        "\n",
        "for i,t in sorted(x):\n",
        "    print(f\"x_{i}_{t} = {x[(i,t)].varValue:.2f}  (arrived in {i}, served in {t}, revenue ${revenue[(i,t)]:.0f} each)\")\n",
        "\n"
      ]
    }
  ]
}