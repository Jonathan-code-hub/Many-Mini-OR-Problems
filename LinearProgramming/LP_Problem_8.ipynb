{
  "nbformat": 4,
  "nbformat_minor": 0,
  "metadata": {
    "colab": {
      "provenance": [],
      "authorship_tag": "ABX9TyMljttksdVaZAVOziCupZ9y",
      "include_colab_link": true
    },
    "kernelspec": {
      "name": "python3",
      "display_name": "Python 3"
    },
    "language_info": {
      "name": "python"
    }
  },
  "cells": [
    {
      "cell_type": "markdown",
      "metadata": {
        "id": "view-in-github",
        "colab_type": "text"
      },
      "source": [
        "<a href=\"https://colab.research.google.com/github/Jonathan-code-hub/Many-Mini-OR-Problems/blob/main/LinearProgramming/LP_Problem_8.ipynb\" target=\"_parent\"><img src=\"https://colab.research.google.com/assets/colab-badge.svg\" alt=\"Open In Colab\"/></a>"
      ]
    },
    {
      "cell_type": "markdown",
      "source": [
        "Problem 8:We consider a knapsack problem with $n=4$ items.\n",
        "Each item $i$ has value $v_i$ and weight $w_i$, and the knapsack capacity is $C=8$.\n",
        "\n",
        "\\[\n",
        "\\begin{array}{c|c|c}\n",
        "\\text{Item } i & v_i & w_i \\\\ \\hline\n",
        "1 & 3 & 2 \\\\\n",
        "2 & 4 & 3 \\\\\n",
        "3 & 5 & 4 \\\\\n",
        "4 & 8 & 5 \\\\\n",
        "\\end{array}\n",
        "\\]\n",
        "\n",
        "\n",
        "Decision variables:\n",
        "\\[\n",
        "x_i =\n",
        "\\begin{cases}\n",
        "1 & \\text{if item $i$ is taken}, \\\\\n",
        "0 & \\text{otherwise}.\n",
        "\\end{cases}\n",
        "\\]\n",
        "\n",
        "\n",
        "\n",
        "Integer program (0--1 knapsack):\n",
        "\\[\n",
        "\\begin{aligned}\n",
        "\\max \\quad & 3x_1 + 4x_2 + 5x_3 + 8x_4 \\\\\n",
        "\\text{s.t.} \\quad & 2x_1 + 3x_2 + 4x_3 + 5x_4 \\leq 8, \\\\\n",
        "& x_i \\in \\{0,1\\}, \\quad i=1,\\dots,4.\n",
        "\\end{aligned}\n",
        "\\]\n",
        "\n",
        "Linear programming relaxation:\n",
        "\\[\n",
        "\\begin{aligned}\n",
        "\\max \\quad & 3x_1 + 4x_2 + 5x_3 + 8x_4 \\\\\n",
        "\\text{s.t.} \\quad & 2x_1 + 3x_2 + 4x_3 + 5x_4 \\leq 8, \\\\\n",
        "& 0 \\leq x_i \\leq 1, \\quad i=1,\\dots,4.\n",
        "\\end{aligned}\n",
        "\\]\n"
      ],
      "metadata": {
        "id": "1m0793yJhkfs"
      }
    },
    {
      "cell_type": "code",
      "source": [
        "!pip install pulp"
      ],
      "metadata": {
        "colab": {
          "base_uri": "https://localhost:8080/"
        },
        "id": "9V1xCavGhk0m",
        "outputId": "1bbc76ed-41d4-4dc1-9238-8f950e40d1aa"
      },
      "execution_count": 8,
      "outputs": [
        {
          "output_type": "stream",
          "name": "stdout",
          "text": [
            "Requirement already satisfied: pulp in /usr/local/lib/python3.12/dist-packages (3.2.2)\n"
          ]
        }
      ]
    },
    {
      "cell_type": "code",
      "execution_count": 12,
      "metadata": {
        "colab": {
          "base_uri": "https://localhost:8080/"
        },
        "id": "f1_Mlww8heSC",
        "outputId": "e7027c8b-f845-4332-94d2-4d1c45181cee"
      },
      "outputs": [
        {
          "output_type": "stream",
          "name": "stdout",
          "text": [
            "Status: Optimal\n",
            "item1: 0.0\n",
            "item2: 1.0\n",
            "item3: 0.0\n",
            "item4: 1.0\n",
            "Total value: 12.0\n"
          ]
        }
      ],
      "source": [
        "from pulp import LpProblem, LpVariable, LpMaximize, lpSum, LpStatus\n",
        "knapsack = LpProblem('knapsack', LpMaximize)\n",
        "\n",
        "\n",
        "# Variables #\n",
        "\n",
        "items = [\"item1\", \"item2\", \"item3\", \"item4\"]\n",
        "values = {\n",
        "    \"item1\": 3,\n",
        "    \"item2\": 4,\n",
        "    \"item3\": 5,\n",
        "    \"item4\": 8,\n",
        "}\n",
        "\n",
        "weights = {\n",
        "    \"item1\": 2,\n",
        "    \"item2\": 3,\n",
        "    \"item3\": 4,\n",
        "    \"item4\": 5\n",
        "}\n",
        "\n",
        "x = LpVariable.dicts(\"x\", items, cat=\"Binary\")\n",
        "\n",
        "# Objective Function #\n",
        "knapsack += lpSum(values[i] * x[i] for i in  items)\n",
        "\n",
        "# Constraints  #\n",
        "knapsack +=  lpSum(weights[i] * x[i] for i in  items)<= 8\n",
        "\n",
        "knapsack.solve()\n",
        "\n",
        "print(\"Status:\", LpStatus[knapsack.status])\n",
        "for i in items:\n",
        "    print(f\"{i}: {x[i].value()}\")\n",
        "print(\"Total value:\", pulp.value(knapsack.objective))"
      ]
    }
  ]
}