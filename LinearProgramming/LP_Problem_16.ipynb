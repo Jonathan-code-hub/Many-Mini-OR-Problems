{
  "nbformat": 4,
  "nbformat_minor": 0,
  "metadata": {
    "colab": {
      "provenance": [],
      "authorship_tag": "ABX9TyPv/sejxLhT3QxK8z3Np38W",
      "include_colab_link": true
    },
    "kernelspec": {
      "name": "python3",
      "display_name": "Python 3"
    },
    "language_info": {
      "name": "python"
    }
  },
  "cells": [
    {
      "cell_type": "markdown",
      "metadata": {
        "id": "view-in-github",
        "colab_type": "text"
      },
      "source": [
        "<a href=\"https://colab.research.google.com/github/Jonathan-code-hub/Many-Mini-OR-Problems/blob/main/LinearProgramming/LP_Problem_16.ipynb\" target=\"_parent\"><img src=\"https://colab.research.google.com/assets/colab-badge.svg\" alt=\"Open In Colab\"/></a>"
      ]
    },
    {
      "cell_type": "markdown",
      "source": [
        "Problem 16: Use the Big M method and the two-phase method to find the optimal solution to the following LP:\n",
        "$$\n",
        "\\begin{aligned}\n",
        "\\max z=5 x_1-x_2 & \\\\\n",
        "\\text { s.t. } \\quad 2 x_1+x_2 & =6 \\\\\n",
        "x_1+x_2 & \\leq 4 \\\\\n",
        "x_1+2 x_2 & \\leq 5 \\\\\n",
        "x_1, x_2 & \\geq 0\n",
        "\\end{aligned}\n",
        "$$"
      ],
      "metadata": {
        "id": "iYoOp-WTMX8f"
      }
    },
    {
      "cell_type": "code",
      "source": [
        "!pip install pulp"
      ],
      "metadata": {
        "colab": {
          "base_uri": "https://localhost:8080/"
        },
        "id": "6s6BfB1VMYQL",
        "outputId": "87b0c1fa-6478-420e-8c0d-73d3d996b479"
      },
      "execution_count": null,
      "outputs": [
        {
          "output_type": "stream",
          "name": "stdout",
          "text": [
            "Collecting pulp\n",
            "  Downloading pulp-3.2.2-py3-none-any.whl.metadata (6.9 kB)\n",
            "Downloading pulp-3.2.2-py3-none-any.whl (16.4 MB)\n",
            "\u001b[2K   \u001b[90m━━━━━━━━━━━━━━━━━━━━━━━━━━━━━━━━━━━━━━━━\u001b[0m \u001b[32m16.4/16.4 MB\u001b[0m \u001b[31m64.3 MB/s\u001b[0m eta \u001b[36m0:00:00\u001b[0m\n",
            "\u001b[?25hInstalling collected packages: pulp\n",
            "Successfully installed pulp-3.2.2\n"
          ]
        }
      ]
    },
    {
      "cell_type": "code",
      "execution_count": null,
      "metadata": {
        "colab": {
          "base_uri": "https://localhost:8080/"
        },
        "id": "E2erOd87MN9A",
        "outputId": "47b388fc-1f03-450c-c35e-c2305151cc6d"
      },
      "outputs": [
        {
          "output_type": "stream",
          "name": "stdout",
          "text": [
            "max z = 15.0\n"
          ]
        }
      ],
      "source": [
        "from pulp import LpMaximize, LpProblem, LpVariable, value\n",
        "z = LpProblem(\"z\",LpMaximize)\n",
        "\n",
        "# Variables #\n",
        "xOne = LpVariable('xOne', lowBound=0)\n",
        "xTwo = LpVariable('xTwo', lowBound=0)\n",
        "\n",
        "# Objective Function #\n",
        "z += 5*xOne - xTwo\n",
        "\n",
        "# Constraints #\n",
        "z += 2*xOne + xTwo == 6\n",
        "z += xOne + xTwo <= 4\n",
        "z += xOne - 4*xTwo <= 3\n",
        "\n",
        "z.solve()\n",
        "\n",
        "print(\"max z =\", value(z.objective))"
      ]
    }
  ]
}