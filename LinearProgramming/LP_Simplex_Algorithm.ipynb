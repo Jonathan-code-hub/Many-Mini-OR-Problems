{
  "nbformat": 4,
  "nbformat_minor": 0,
  "metadata": {
    "colab": {
      "provenance": [],
      "authorship_tag": "ABX9TyOcktiSvHHGkoDQZuTnB5om",
      "include_colab_link": true
    },
    "kernelspec": {
      "name": "python3",
      "display_name": "Python 3"
    },
    "language_info": {
      "name": "python"
    }
  },
  "cells": [
    {
      "cell_type": "markdown",
      "metadata": {
        "id": "view-in-github",
        "colab_type": "text"
      },
      "source": [
        "<a href=\"https://colab.research.google.com/github/Jonathan-code-hub/Many-Mini-OR-Problems/blob/main/LinearProgramming/LP_Simplex_Algorithm.ipynb\" target=\"_parent\"><img src=\"https://colab.research.google.com/assets/colab-badge.svg\" alt=\"Open In Colab\"/></a>"
      ]
    },
    {
      "cell_type": "markdown",
      "source": [
        "Simplex Algorithm"
      ],
      "metadata": {
        "id": "twd8xpsldhjg"
      }
    },
    {
      "cell_type": "code",
      "source": [
        "import numpy as np\n",
        "\n",
        "class Simplex:\n",
        "    def __init__(self, c, A, b):\n",
        "        \"\"\"\n",
        "        Initialize the simplex algorithm.\n",
        "        Maximize:    c^T x\n",
        "        Subject to:  A x <= b, x >= 0\n",
        "\n",
        "        c: objective coefficients (1D array)\n",
        "        A: constraint coefficients (2D array)\n",
        "        b: RHS values (1D array)\n",
        "        \"\"\"\n",
        "        self.c = np.array(c, dtype=float)\n",
        "        self.A = np.array(A, dtype=float)\n",
        "        self.b = np.array(b, dtype=float)\n",
        "\n",
        "        self.m, self.n = self.A.shape\n",
        "\n",
        "        # Build initial tableau #\n",
        "        self.tableau = np.zeros((self.m + 1, self.n + self.m + 1))\n",
        "        self.tableau[:self.m, :self.n] = self.A\n",
        "        self.tableau[:self.m, self.n:self.n + self.m] = np.eye(self.m)\n",
        "        self.tableau[:self.m, -1] = self.b\n",
        "        self.tableau[-1, :self.n] = -self.c\n",
        "\n",
        "    def pivot(self, row, col):\n",
        "        \"\"\"Perform pivot on tableau at given row, col.\"\"\"\n",
        "        self.tableau[row] /= self.tableau[row, col]\n",
        "        for r in range(len(self.tableau)):\n",
        "            if r != row:\n",
        "                self.tableau[r] -= self.tableau[r, col] * self.tableau[row]\n",
        "\n",
        "    def solve(self):\n",
        "        while True:\n",
        "            # Find entering variable (most negative coefficient in last row) #\n",
        "            col = np.argmin(self.tableau[-1, :-1])\n",
        "            if self.tableau[-1, col] >= 0:\n",
        "                break  # Optimal solution found\n",
        "\n",
        "            # Find leaving variable (minimum ratio test) #\n",
        "            ratios = []\n",
        "            for i in range(self.m):\n",
        "                if self.tableau[i, col] > 0:\n",
        "                    ratios.append(self.tableau[i, -1] / self.tableau[i, col])\n",
        "                else:\n",
        "                    ratios.append(np.inf)\n",
        "\n",
        "            row = np.argmin(ratios)\n",
        "            if ratios[row] == np.inf:\n",
        "                raise Exception(\"Problem is unbounded!\")\n",
        "\n",
        "            self.pivot(row, col)\n",
        "\n",
        "        # Extract solution #\n",
        "        solution = np.zeros(self.n)\n",
        "        for j in range(self.n):\n",
        "            col = self.tableau[:self.m, j]\n",
        "            if np.count_nonzero(col) == 1 and np.isclose(np.max(col), 1):\n",
        "                row = np.where(col == 1)[0][0]\n",
        "                solution[j] = self.tableau[row, -1]\n",
        "\n",
        "        return solution, self.tableau[-1, -1]\n",
        "\n",
        "\n",
        "# Example problem:            #\n",
        "# Maximize z = 3x1 + 2x2      #\n",
        "# Subject to: x1 + x2 <= 4    #\n",
        "#             x1 <= 2         #\n",
        "#             x2 <= 3         #\n",
        "c = [3, 2]\n",
        "A = [[1, 1],\n",
        "     [1, 0],\n",
        "     [0, 1]]\n",
        "b = [4, 2, 3]\n",
        "\n",
        "solver = Simplex(c, A, b)\n",
        "solution, optimum = solver.solve()\n",
        "print(\"Optimal solution:\", solution)\n",
        "print(\"Optimal value:\", optimum)\n"
      ],
      "metadata": {
        "colab": {
          "base_uri": "https://localhost:8080/"
        },
        "id": "u8tBZuKHex_5",
        "outputId": "7abb1a61-cec9-4082-f047-01872aa9a2b2"
      },
      "execution_count": 4,
      "outputs": [
        {
          "output_type": "stream",
          "name": "stdout",
          "text": [
            "Optimal solution: [2. 2.]\n",
            "Optimal value: 10.0\n"
          ]
        }
      ]
    }
  ]
}