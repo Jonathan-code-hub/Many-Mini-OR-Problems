{
  "nbformat": 4,
  "nbformat_minor": 0,
  "metadata": {
    "colab": {
      "provenance": [],
      "authorship_tag": "ABX9TyOdZNFpwjgHOn7glgG5boxX",
      "include_colab_link": true
    },
    "kernelspec": {
      "name": "python3",
      "display_name": "Python 3"
    },
    "language_info": {
      "name": "python"
    }
  },
  "cells": [
    {
      "cell_type": "markdown",
      "metadata": {
        "id": "view-in-github",
        "colab_type": "text"
      },
      "source": [
        "<a href=\"https://colab.research.google.com/github/Jonathan-code-hub/Many-Mini-OR-Problems/blob/main/LinearProgramming/LP_Problem18.ipynb\" target=\"_parent\"><img src=\"https://colab.research.google.com/assets/colab-badge.svg\" alt=\"Open In Colab\"/></a>"
      ]
    },
    {
      "cell_type": "markdown",
      "source": [
        "Problem 18: Use the simplex algorithm to find the optimal solution to the following LP:\n",
        "$$\n",
        "\\begin{array}{lr}\n",
        "\\min z=-x_1-2 x_2 \\\\\n",
        "\\text { s.t. } \\quad 2 x_1+x_2 \\leq 5 \\\\\n",
        "x_1+x_2 \\leq 3 \\\\\n",
        "x_1, x_2 \\geq 0\n",
        "\\end{array}\n",
        "$$\n"
      ],
      "metadata": {
        "id": "7UDBUNvDNrLF"
      }
    },
    {
      "cell_type": "code",
      "source": [
        "!pip install pulp"
      ],
      "metadata": {
        "colab": {
          "base_uri": "https://localhost:8080/"
        },
        "id": "i7Q7T7wGNrYr",
        "outputId": "c03053bb-0b0a-487e-a4bd-f9e03d6d02f3"
      },
      "execution_count": 1,
      "outputs": [
        {
          "output_type": "stream",
          "name": "stdout",
          "text": [
            "Collecting pulp\n",
            "  Downloading pulp-3.2.2-py3-none-any.whl.metadata (6.9 kB)\n",
            "Downloading pulp-3.2.2-py3-none-any.whl (16.4 MB)\n",
            "\u001b[2K   \u001b[90m━━━━━━━━━━━━━━━━━━━━━━━━━━━━━━━━━━━━━━━━\u001b[0m \u001b[32m16.4/16.4 MB\u001b[0m \u001b[31m90.1 MB/s\u001b[0m eta \u001b[36m0:00:00\u001b[0m\n",
            "\u001b[?25hInstalling collected packages: pulp\n",
            "Successfully installed pulp-3.2.2\n"
          ]
        }
      ]
    },
    {
      "cell_type": "code",
      "execution_count": 4,
      "metadata": {
        "colab": {
          "base_uri": "https://localhost:8080/"
        },
        "id": "WkE7xghQNoJB",
        "outputId": "bba497a7-f353-490a-8655-b58ee8a6a2c1"
      },
      "outputs": [
        {
          "output_type": "stream",
          "name": "stdout",
          "text": [
            "z: -6.0\n"
          ]
        }
      ],
      "source": [
        "from pulp import LpProblem, LpVariable, LpMinimize, value\n",
        "z = LpProblem(\"z\", LpMinimize)\n",
        "\n",
        "\n",
        "# Variables #\n",
        "xOne = LpVariable(\"xOne\", lowBound = 0)\n",
        "xTwo = LpVariable(\"xTwo\", lowBound = 0)\n",
        "\n",
        "\n",
        "# Objective Function #\n",
        "z += -xOne - 2*xTwo\n",
        "\n",
        "\n",
        "# Constraints #\n",
        "z += 2*xOne + xTwo <= 5\n",
        "z += xOne + xTwo <= 3\n",
        "\n",
        "# Results #\n",
        "z.solve()\n",
        "print(\"z:\", value(z.objective))"
      ]
    }
  ]
}