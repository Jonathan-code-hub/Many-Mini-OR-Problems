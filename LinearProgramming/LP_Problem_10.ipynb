{
  "nbformat": 4,
  "nbformat_minor": 0,
  "metadata": {
    "colab": {
      "provenance": [],
      "authorship_tag": "ABX9TyPa9VN56VfmIWku+rgDDEx6",
      "include_colab_link": true
    },
    "kernelspec": {
      "name": "python3",
      "display_name": "Python 3"
    },
    "language_info": {
      "name": "python"
    }
  },
  "cells": [
    {
      "cell_type": "markdown",
      "metadata": {
        "id": "view-in-github",
        "colab_type": "text"
      },
      "source": [
        "<a href=\"https://colab.research.google.com/github/Jonathan-code-hub/Many-Mini-OR-Problems/blob/main/LinearProgramming/LP_Problem_10.ipynb\" target=\"_parent\"><img src=\"https://colab.research.google.com/assets/colab-badge.svg\" alt=\"Open In Colab\"/></a>"
      ]
    },
    {
      "cell_type": "markdown",
      "source": [
        "Problem 10: Carco uses robots to manufacture cars. The following\n",
        "demands for cars must be met (not necessarily on time, but\n",
        "all demands must be met by end of quarter 4): quarter 1—\n",
        "600; quarter 2—800; quarter 3—500; quarter 4—400. At\n",
        "the beginning of the quarter, Carco has two robots. Robots\n",
        "can be purchased at the beginning of each quarter, but a\n",
        "maximum of two per quarter can be purchased. Each robot\n",
        "can build as many as 200 cars per quarter. It costs \\$5,000\n",
        "to purchase a robot. Each quarter, a robot incurs \\$500 in\n",
        "maintenance costs (even if it is not used to build any cars).\n",
        "Robots can also be sold at the beginning of each quarter for\n",
        "\\$3,000. At the end of each quarter, a holding cost of \\$200\n",
        "per car is incurred. If any demand is backlogged, then a cost\n",
        "of \\$300 per car is incurred for each quarter the demand is\n",
        "backlogged."
      ],
      "metadata": {
        "id": "-YdpRZN61RX_"
      }
    },
    {
      "cell_type": "code",
      "source": [
        "!pip install pulp"
      ],
      "metadata": {
        "id": "MjKJVvw11TRD",
        "colab": {
          "base_uri": "https://localhost:8080/"
        },
        "outputId": "bc56c500-76b5-4241-d241-5eff55eca230"
      },
      "execution_count": 2,
      "outputs": [
        {
          "output_type": "stream",
          "name": "stdout",
          "text": [
            "Collecting pulp\n",
            "  Downloading pulp-3.2.2-py3-none-any.whl.metadata (6.9 kB)\n",
            "Downloading pulp-3.2.2-py3-none-any.whl (16.4 MB)\n",
            "\u001b[2K   \u001b[90m━━━━━━━━━━━━━━━━━━━━━━━━━━━━━━━━━━━━━━━━\u001b[0m \u001b[32m16.4/16.4 MB\u001b[0m \u001b[31m95.5 MB/s\u001b[0m eta \u001b[36m0:00:00\u001b[0m\n",
            "\u001b[?25hInstalling collected packages: pulp\n",
            "Successfully installed pulp-3.2.2\n"
          ]
        }
      ]
    },
    {
      "cell_type": "code",
      "source": [
        "from pulp import LpProblem, LpMinimize, LpVariable, lpSum, LpInteger, value, LpStatus\n",
        "\n",
        "# Parameters #\n",
        "T = [1,2,3,4]\n",
        "D = {1:600, 2:800, 3:500, 4:400}\n",
        "cap = 200\n",
        "buy_cost = 5000\n",
        "sell_rev = 3000\n",
        "maint_cost = 500\n",
        "hold_cost = 200\n",
        "back_cost = 300\n",
        "max_buy_per_quarter = 2\n",
        "R0 = 2  # robots at start before Q1 #\n",
        "\n",
        "# Model #\n",
        "m = LpProblem(\"Carco_Robot_Planning\", LpMinimize)\n",
        "\n",
        "# Decision vars #\n",
        "buy = {t: LpVariable(f\"buy_{t}\", lowBound=0, upBound=max_buy_per_quarter, cat=LpInteger) for t in T}\n",
        "sell = {t: LpVariable(f\"sell_{t}\", lowBound=0, cat=LpInteger) for t in T}\n",
        "R = {t: LpVariable(f\"R_{t}\", lowBound=0, cat=LpInteger) for t in T}   # robots available in quarter t\n",
        "P = {t: LpVariable(f\"P_{t}\", lowBound=0) for t in T}   # production in quarter t (cars)\n",
        "I = {t: LpVariable(f\"I_{t}\", lowBound=0) for t in T}   # inventory end of quarter t\n",
        "B = {t: LpVariable(f\"B_{t}\", lowBound=0) for t in T}   # backlog end of quarter t\n",
        "\n",
        "# Objective #\n",
        "m += lpSum(buy_cost * buy[t] + maint_cost * R[t] - sell_rev * sell[t] + hold_cost * I[t] + back_cost * B[t] for t in T)\n",
        "\n",
        "# Robot balance and sale bounds #\n",
        "for t in T:\n",
        "    if t == 1:\n",
        "        m += R[t] == R0 + buy[t] - sell[t]\n",
        "        # you cannot sell more than R0 at t=1 #\n",
        "        m += sell[t] <= R0\n",
        "    else:\n",
        "        m += R[t] == R[t-1] + buy[t] - sell[t]\n",
        "        # you cannot sell more than robots you had at start of quarter t (i.e., R_{t-1}) #\n",
        "        m += sell[t] <= R[t-1]\n",
        "\n",
        "# Production capacity #\n",
        "for t in T:\n",
        "    m += P[t] <= cap * R[t]\n",
        "\n",
        "# Inventory/backlog flow #\n",
        "# initial I0 = B0 = 0 implicit #\n",
        "for t in T:\n",
        "    if t == 1:\n",
        "        m += I[1] - B[1] == 0 + P[1] - D[1]\n",
        "    else:\n",
        "        m += I[t] - B[t] == I[t-1] - B[t-1] + P[t] - D[t]\n",
        "\n",
        "# Must have no backlog after quarter 4 #\n",
        "m += B[4] == 0\n",
        "\n",
        "# Solve #\n",
        "m.solve()\n",
        "\n",
        "# Report results #\n",
        "print(\"Status:\", LpStatus[m.status])\n",
        "print(f\"Total cost = ${value(m.objective):,.2f}\\n\")\n",
        "print(\"Quarter |  buy  sell   robots   prod   inv   back\")\n",
        "for t in T:\n",
        "    print(f\"{t:>3}    | {int(buy[t].value()):>4}  {int(sell[t].value()):>4}   {int(R[t].value()):>6}   \"\n",
        "          f\"{float(P[t].value()):>6.1f}  {float(I[t].value()):>5.1f}  {float(B[t].value()):>5.1f}\")\n",
        "\n"
      ],
      "metadata": {
        "colab": {
          "base_uri": "https://localhost:8080/"
        },
        "id": "9zAiK0wJkb7l",
        "outputId": "813fb5be-c6ff-45df-f8d0-261043deeb7a"
      },
      "execution_count": 5,
      "outputs": [
        {
          "output_type": "stream",
          "name": "stdout",
          "text": [
            "Status: Optimal\n",
            "Total cost = $10,000.00\n",
            "\n",
            "Quarter |  buy  sell   robots   prod   inv   back\n",
            "  1    |    1     0        3    600.0    0.0    0.0\n",
            "  2    |    1     0        4    800.0    0.0    0.0\n",
            "  3    |    0     1        3    500.0    0.0    0.0\n",
            "  4    |    0     1        2    400.0    0.0    0.0\n"
          ]
        }
      ]
    }
  ]
}