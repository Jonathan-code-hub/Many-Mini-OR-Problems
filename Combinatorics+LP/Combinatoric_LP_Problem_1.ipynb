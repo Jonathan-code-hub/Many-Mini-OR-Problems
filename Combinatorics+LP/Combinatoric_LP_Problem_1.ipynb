{
  "nbformat": 4,
  "nbformat_minor": 0,
  "metadata": {
    "colab": {
      "provenance": [],
      "authorship_tag": "ABX9TyNCts7DGWA7lTMnRtXhnjam",
      "include_colab_link": true
    },
    "kernelspec": {
      "name": "python3",
      "display_name": "Python 3"
    },
    "language_info": {
      "name": "python"
    }
  },
  "cells": [
    {
      "cell_type": "markdown",
      "metadata": {
        "id": "view-in-github",
        "colab_type": "text"
      },
      "source": [
        "<a href=\"https://colab.research.google.com/github/Jonathan-code-hub/Many-Mini-OR-Problems/blob/main/Combinatorics%2BLP/Combinatoric_LP_Problem_1.ipynb\" target=\"_parent\"><img src=\"https://colab.research.google.com/assets/colab-badge.svg\" alt=\"Open In Colab\"/></a>"
      ]
    },
    {
      "cell_type": "markdown",
      "source": [
        "#Problem 1: Combinatorics & Linear Programming\n",
        "\n",
        "You are helping to plan seating arrangements for a small event. There are **5 tables** and **20 guests**.\n",
        "\n",
        "---\n",
        "\n",
        "### Part A: Combinatorics\n",
        "1. Each table can seat exactly 4 guests. How many different ways can the 20 guests be partitioned into the 5 tables (ignoring the order of tables and the order of guests at each table)?\n",
        "2. Suppose two guests, Alice and Bob, insist on sitting at the same table. How does this restriction change the total number of possible partitions?\n",
        "\n",
        "---\n",
        "\n",
        "### Part B: Linear Programming\n",
        "The event host wants to assign guests to tables while **minimizing conflicts**. Define a *conflict pair* as two guests who dislike each other. The event planner has a list of conflict pairs among the 20 guests.\n",
        "\n",
        "1. Define binary decision variables  \n",
        "   \\[\n",
        "   x_{i,j} =\n",
        "   \\begin{cases}\n",
        "   1 & \\text{if guest $i$ sits at table $j$}, \\\\\n",
        "   0 & \\text{otherwise}.\n",
        "   \\end{cases}\n",
        "   \\]\n",
        "\n",
        "2. Write the **constraints** to ensure:\n",
        "   - Every guest is assigned to exactly one table.\n",
        "   - Each table seats exactly 4 guests.\n",
        "\n",
        "3. Formulate an **objective function** to minimize the total number of conflict pairs seated at the same table.\n",
        "\n",
        "---\n",
        "\n",
        "### Bonus Challenge\n",
        "If Alice and Bob must sit together, how would you **modify the constraints** to reflect this condition?\n",
        "\n",
        "---\n"
      ],
      "metadata": {
        "id": "AfnUHX0VJDyt"
      }
    },
    {
      "cell_type": "code",
      "source": [
        "!pip install pulp"
      ],
      "metadata": {
        "id": "LqLLzuLRJDjd",
        "colab": {
          "base_uri": "https://localhost:8080/"
        },
        "outputId": "972f242a-7b4e-4b74-f97d-9c0989372e62"
      },
      "execution_count": null,
      "outputs": [
        {
          "output_type": "stream",
          "name": "stdout",
          "text": [
            "Collecting pulp\n",
            "  Downloading pulp-3.2.2-py3-none-any.whl.metadata (6.9 kB)\n",
            "Downloading pulp-3.2.2-py3-none-any.whl (16.4 MB)\n",
            "\u001b[2K   \u001b[90m━━━━━━━━━━━━━━━━━━━━━━━━━━━━━━━━━━━━━━━━\u001b[0m \u001b[32m16.4/16.4 MB\u001b[0m \u001b[31m89.0 MB/s\u001b[0m eta \u001b[36m0:00:00\u001b[0m\n",
            "\u001b[?25hInstalling collected packages: pulp\n",
            "Successfully installed pulp-3.2.2\n"
          ]
        }
      ]
    },
    {
      "cell_type": "code",
      "execution_count": null,
      "metadata": {
        "id": "aa32L66AHPUE",
        "colab": {
          "base_uri": "https://localhost:8080/"
        },
        "outputId": "e16ec07d-a1b2-4469-ba66-fadd01506234"
      },
      "outputs": [
        {
          "output_type": "stream",
          "name": "stdout",
          "text": [
            "Status: Optimal\n",
            "Total conflicts: 0.0\n",
            "Table 0: [2, 5, 14, 15]\n",
            "Table 1: [0, 8, 10, 12]\n",
            "Table 2: [7, 9, 11, 17]\n",
            "Table 3: [3, 13, 16, 18]\n",
            "Table 4: [1, 4, 6, 19]\n"
          ]
        }
      ],
      "source": [
        "import pulp\n",
        "\n",
        "# Problem setup #\n",
        "num_guests = 20\n",
        "num_tables = 5\n",
        "seats_per_table = 4\n",
        "\n",
        "guests = list(range(num_guests))\n",
        "tables = list(range(num_tables))\n",
        "\n",
        "# Example conflict pairs (modify as needed) #\n",
        "conflict_pairs = [(0, 1), (2, 3), (4, 5), (6, 7), (1, 2), (8, 9)]\n",
        "\n",
        "# Define LP problem #\n",
        "prob = pulp.LpProblem(\"Guest_Seating\", pulp.LpMinimize)\n",
        "\n",
        "# Binary decision variables: x[i][j] = 1 if guest i sits at table j #\n",
        "x = pulp.LpVariable.dicts(\"x\", (guests, tables), cat=\"Binary\")\n",
        "\n",
        "# Conflict helper variables: y[i,k,j] = 1 if guests i and k both sit at table j #\n",
        "y = pulp.LpVariable.dicts(\"y\", (range(len(conflict_pairs)), tables), cat=\"Binary\")\n",
        "\n",
        "# Constraints #\n",
        "\n",
        "# Each guest must sit at exactly one table #\n",
        "for i in guests:\n",
        "    prob += pulp.lpSum(x[i][j] for j in tables) == 1\n",
        "\n",
        "# Each table must have exactly seats_per_table guests #\n",
        "for j in tables:\n",
        "    prob += pulp.lpSum(x[i][j] for i in guests) == seats_per_table\n",
        "\n",
        "# Define y[i,k,j] in terms of x[i][j] and x[k][j] #\n",
        "for idx, (i, k) in enumerate(conflict_pairs):\n",
        "    for j in tables:\n",
        "        prob += y[idx][j] <= x[i][j]\n",
        "        prob += y[idx][j] <= x[k][j]\n",
        "        prob += y[idx][j] >= x[i][j] + x[k][j] - 1\n",
        "\n",
        "# Objective function #\n",
        "# Minimize total number of conflicts (sum of all y[i,k,j]) #\n",
        "prob += pulp.lpSum(y[idx][j] for idx in range(len(conflict_pairs)) for j in tables)\n",
        "\n",
        "# Solve the problem #\n",
        "prob.solve(pulp.PULP_CBC_CMD(msg=0))\n",
        "\n",
        "print(\"Status:\", pulp.LpStatus[prob.status])\n",
        "print(\"Total conflicts:\", pulp.value(prob.objective))\n",
        "\n",
        "# Print seating plan #\n",
        "for j in tables:\n",
        "    seated = [i for i in guests if pulp.value(x[i][j]) == 1]\n",
        "    print(f\"Table {j}: {seated}\")\n"
      ]
    }
  ]
}