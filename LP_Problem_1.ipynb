{
  "nbformat": 4,
  "nbformat_minor": 0,
  "metadata": {
    "colab": {
      "provenance": [],
      "authorship_tag": "ABX9TyM7k9L82k11a+3sv5lROSAz",
      "include_colab_link": true
    },
    "kernelspec": {
      "name": "python3",
      "display_name": "Python 3"
    },
    "language_info": {
      "name": "python"
    }
  },
  "cells": [
    {
      "cell_type": "markdown",
      "metadata": {
        "id": "view-in-github",
        "colab_type": "text"
      },
      "source": [
        "<a href=\"https://colab.research.google.com/github/Jonathan-code-hub/Many-Mini-OR-Problems/blob/main/LP_Problem_1.ipynb\" target=\"_parent\"><img src=\"https://colab.research.google.com/assets/colab-badge.svg\" alt=\"Open In Colab\"/></a>"
      ]
    },
    {
      "cell_type": "markdown",
      "source": [
        "Problem 1 Part 1: The Mini Factory Product Mix\n",
        "Scenario\n",
        "A small factory makes two products: A and B.\n",
        "\n",
        "Each product requires Machine Time and Labor Hours.\n",
        "\n",
        "The factory wants to maximize profit.\n",
        "\n",
        "\n",
        "Data\n",
        "Product\tProfit per unit\tMachine time (hours)\tLabor hours\n",
        "\n",
        "\n",
        "A\t\\$40\t2\n",
        "B\t\\$30\t1\t2\n",
        "\n",
        "\n",
        "Machine time: 100 hours total\n",
        "\n",
        "Labor hours: 90 hours total"
      ],
      "metadata": {
        "id": "cNLo2WDPNxti"
      }
    },
    {
      "cell_type": "code",
      "source": [
        "# Installs PuLP #\n",
        "!pip install pulp"
      ],
      "metadata": {
        "colab": {
          "base_uri": "https://localhost:8080/"
        },
        "id": "SLbtMsXGOprS",
        "outputId": "9cc31d30-941a-49e3-feeb-30eb8b9cecc3"
      },
      "execution_count": null,
      "outputs": [
        {
          "output_type": "stream",
          "name": "stdout",
          "text": [
            "Collecting pulp\n",
            "  Downloading pulp-3.2.2-py3-none-any.whl.metadata (6.9 kB)\n",
            "Downloading pulp-3.2.2-py3-none-any.whl (16.4 MB)\n",
            "\u001b[2K   \u001b[90m━━━━━━━━━━━━━━━━━━━━━━━━━━━━━━━━━━━━━━━━\u001b[0m \u001b[32m16.4/16.4 MB\u001b[0m \u001b[31m54.8 MB/s\u001b[0m eta \u001b[36m0:00:00\u001b[0m\n",
            "\u001b[?25hInstalling collected packages: pulp\n",
            "Successfully installed pulp-3.2.2\n"
          ]
        }
      ]
    },
    {
      "cell_type": "code",
      "execution_count": null,
      "metadata": {
        "colab": {
          "base_uri": "https://localhost:8080/"
        },
        "id": "oz_Q4J85Ndh5",
        "outputId": "b93a98fb-2936-4128-97f3-c0c74715b71a"
      },
      "outputs": [
        {
          "output_type": "stream",
          "name": "stdout",
          "text": [
            "Requirement already satisfied: pulp in /usr/local/lib/python3.11/dist-packages (3.2.2)\n",
            "0.0\n",
            "45.0\n"
          ]
        }
      ],
      "source": [
        "from pulp import LpProblem, LpMaximize, LpVariable\n",
        "\n",
        "model = LpProblem(\"Factory_Production\", LpMaximize)\n",
        "\n",
        "# Formulation #\n",
        "xA = LpVariable('xA', lowBound=0)\n",
        "xB = LpVariable('xB', lowBound=0)\n",
        "\n",
        "\n",
        "# Objective #\n",
        "model += 40*xA + 30*xB\n",
        "\n",
        "# Constraints #\n",
        "model += 2*xA + 1*xB <= 100   # Machine time #\n",
        "model += 3*xA + 2*xB <= 90    # Labor hours #\n",
        "\n",
        "model.solve()\n",
        "print(xA.value())\n",
        "print(xB.value())\n"
      ]
    },
    {
      "cell_type": "markdown",
      "source": [
        "Problem 1 Part 2: The Factory with Setup Costs and an Extra Resource\n",
        "\n",
        "Scenario:\n",
        "Our factory now produces three products: A, B, and C.\n",
        "\n",
        "Each requires Machine Time, Labor Hours, and Material Units.\n",
        "\n",
        "Producing any amount of a product requires a setup (one-time) cost.\n",
        "\n",
        "You can only produce whole units of products (integer decision variables).\n",
        "\n",
        "The goal is to maximize profit after subtracting setup costs.\n",
        "\n",
        "\\begin{align*}\n",
        "\\text{Decision variables:} \\quad & x_A, x_B, x_C \\in \\mathbb{Z}^+ \\quad \\text{(units produced)} \\\\\n",
        "& y_A, y_B, y_C \\in \\{0, 1\\} \\quad \\text{(1 if product is produced, else 0)} \\\\[6pt]\n",
        "\\text{Objective:} \\quad & \\max \\; 40x_A + 30x_B + 50x_C - 200y_A - 150y_B - 300y_C \\\\[6pt]\n",
        "\\text{Subject to:} \\quad & 2x_A + 1x_B + 3x_C \\leq 120 \\quad \\text{(machine time)} \\\\\n",
        "& 3x_A + 2x_B + 4x_C \\leq 100 \\quad \\text{(labor hours)} \\\\\n",
        "& 4x_A + 3x_B + 2x_C \\leq 110 \\quad \\text{(material)} \\\\[4pt]\n",
        "& x_A \\leq M \\cdot y_A \\\\\n",
        "& x_B \\leq M \\cdot y_B \\\\\n",
        "& x_C \\leq M \\cdot y_C \\\\[4pt]\n",
        "& x_A, x_B, x_C \\geq 0, \\quad \\text{integer} \\\\\n",
        "& y_A, y_B, y_C \\in \\{0, 1\\}\n",
        "\\end{align*}\n",
        "\n"
      ],
      "metadata": {
        "id": "hAj18j8lPoiJ"
      }
    },
    {
      "cell_type": "code",
      "source": [
        "from pulp import LpProblem, LpMaximize, LpVariable\n",
        "\n",
        "model = LpProblem(\"Factory_Production_Setup\", LpMaximize)\n",
        "\n",
        "# Decision Variables #\n",
        "xA = LpVariable('xA', lowBound=0, cat = \"Integer\")\n",
        "yA = LpVariable('yA', lowBound=0, upBound=1, cat = \"Binary\")\n",
        "xB = LpVariable('xB', lowBound=0, cat = \"Integer\")\n",
        "yB = LpVariable('yB', lowBound=0, upBound=1, cat = \"Binary\")\n",
        "xC = LpVariable('xC', lowBound=0, cat = \"Integer\")\n",
        "yC = LpVariable('yC', lowBound=0, upBound=1, cat = \"Binary\")\n",
        "\n",
        "# Objective Function #\n",
        "\n",
        "model += 40*xA + 30*xB + 50*xC - 200*yA - 150*yB - 300*yC\n",
        "\n",
        "# Constraints #\n",
        "model += 2*xA + 1*xB + 3*xC <= 120\n",
        "model += 3*xA + 2*xB + 4*xC <= 100\n",
        "model += 4*xA + 3*xB + 2*xC <= 110\n",
        "\n",
        "# Big-M Linking Constraints #\n",
        "M = 100\n",
        "model += xA <= M*yA\n",
        "model += xB <= M*yB\n",
        "model += xC <= M*yC\n",
        "\n",
        "model.solve()\n",
        "\n",
        "\n",
        "print(xA.value())\n",
        "print(yA.value())\n",
        "print(xB.value())\n",
        "print(yB.value())\n",
        "print(xC.value())\n",
        "print(yC.value())\n"
      ],
      "metadata": {
        "id": "pG7ST5GNPq-j",
        "colab": {
          "base_uri": "https://localhost:8080/"
        },
        "outputId": "2e37969d-7fd2-44bf-e049-5490c526decd"
      },
      "execution_count": null,
      "outputs": [
        {
          "output_type": "stream",
          "name": "stdout",
          "text": [
            "0.0\n",
            "0.0\n",
            "0.0\n",
            "0.0\n",
            "25.0\n",
            "1.0\n"
          ]
        }
      ]
    }
  ]
}