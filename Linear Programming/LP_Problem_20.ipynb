{
  "nbformat": 4,
  "nbformat_minor": 0,
  "metadata": {
    "colab": {
      "provenance": [],
      "authorship_tag": "ABX9TyOI0uW9l8DqWvU9ficAgrdP",
      "include_colab_link": true
    },
    "kernelspec": {
      "name": "python3",
      "display_name": "Python 3"
    },
    "language_info": {
      "name": "python"
    }
  },
  "cells": [
    {
      "cell_type": "markdown",
      "metadata": {
        "id": "view-in-github",
        "colab_type": "text"
      },
      "source": [
        "<a href=\"https://colab.research.google.com/github/Jonathan-code-hub/Many-Mini-OR-Problems/blob/main/Linear%20Programming/LP_Problem_20.ipynb\" target=\"_parent\"><img src=\"https://colab.research.google.com/assets/colab-badge.svg\" alt=\"Open In Colab\"/></a>"
      ]
    },
    {
      "cell_type": "markdown",
      "source": [
        "Problem 20: 12 Productco produces three products. Each product requires labor, lumber, and paint. The resource requirements, unit price, and variable cost (exclusive of raw materials) for each product are given in Table 70. Currently, 900 labor hours, 1,550 gallons of paint, and 1,600 board feet of lumber are available. Additional labor can be purchased at $\\$ 6$ per hour, additional paint at $\\$ 2$ per gallon, and additional lumber at $\\$ 3$ per board foot. For the following two sets of priorities, use preemptive goal programming to determine an optimal production schedule. For set 1 :\n",
        "Priority 1 Obtain profit of at least $\\$ 10,500$.\n",
        "Priority 2 Purchase no additional labor.\n",
        "Priority 3 Purchase no additional paint.\n",
        "Priority 4 Purchase no additional lumber.\n",
        "For set 2 :\n",
        "Priority 1 Purchase no additional labor.\n",
        "Priority 2 Obtain profit of at least $\\$ 10,500$.\n",
        "Priority 3 Purchase no additional paint.\n",
        "Priority 4 Purchase no additional lumber.\n",
        "13 Jobs at Indiana University are rated on three factors:\n",
        "Factor 1 Complexity of duties\n",
        "Factor 2 Education required\n",
        "Factor 3 Mental and or visual demands\n",
        "For each job at IU, the requirement for each factor has been rated on a scale of $1-4$, with a 4 in factor 1 representing high complexity of duty, a 4 in factor 2 representing high educational requirement, and a 4 in factor 3 representing high mental and/or visual demands.\n",
        "\n",
        "\\begin{table}\n",
        "\\captionsetup{labelformat=empty}\n",
        "\\caption{TABLE 70}\n",
        "\\begin{tabular}{lccccc}\n",
        "\\hline Product & Labar & Lunbar & Paint & Prica (3) & \\begin{tabular}{r}\n",
        "Mariabla \\\\\n",
        "Cast (3)\n",
        "\\end{tabular} \\\\\n",
        "\\hline 1 & {$\\left[\\begin{array}{lll}1.5 & 2 & 3 \\\\\n",
        "3 & 3 & 2 \\\\\n",
        "2 & 4 & 2\\end{array}\\right]$} & \\begin{tabular}{c}\n",
        "26 \\\\\n",
        "28\n",
        "\\end{tabular} & \\begin{tabular}{r}\n",
        "10 \\\\\n",
        "31\n",
        "\\end{tabular} & \\begin{tabular}{r}\n",
        "6 \\\\\n",
        "7\n",
        "\\end{tabular} \\\\\n",
        "\\hline\n",
        "\\end{tabular}\n",
        "\\end{table}"
      ],
      "metadata": {
        "id": "6bxRMRMEWkNE"
      }
    },
    {
      "cell_type": "code",
      "source": [
        "!pip install pulp"
      ],
      "metadata": {
        "colab": {
          "base_uri": "https://localhost:8080/"
        },
        "id": "0uQEM4p0Wk0j",
        "outputId": "5612503b-b31a-4385-eba3-a5786b18d09c"
      },
      "execution_count": 2,
      "outputs": [
        {
          "output_type": "stream",
          "name": "stdout",
          "text": [
            "Collecting pulp\n",
            "  Downloading pulp-3.2.2-py3-none-any.whl.metadata (6.9 kB)\n",
            "Downloading pulp-3.2.2-py3-none-any.whl (16.4 MB)\n",
            "\u001b[2K   \u001b[90m━━━━━━━━━━━━━━━━━━━━━━━━━━━━━━━━━━━━━━━━\u001b[0m \u001b[32m16.4/16.4 MB\u001b[0m \u001b[31m85.4 MB/s\u001b[0m eta \u001b[36m0:00:00\u001b[0m\n",
            "\u001b[?25hInstalling collected packages: pulp\n",
            "Successfully installed pulp-3.2.2\n"
          ]
        }
      ]
    },
    {
      "cell_type": "code",
      "execution_count": 3,
      "metadata": {
        "id": "nATi1jhGWcts",
        "colab": {
          "base_uri": "https://localhost:8080/"
        },
        "outputId": "1a034898-fc9a-42c8-ed22-ed76934e7aca"
      },
      "outputs": [
        {
          "output_type": "execute_result",
          "data": {
            "text/plain": [
              "1"
            ]
          },
          "metadata": {},
          "execution_count": 3
        }
      ],
      "source": [
        "from pulp import *\n",
        "m = LpProblem(\"Productco_GoalProgramming\", LpMinimize)\n",
        "\n",
        "# Sets #\n",
        "products = [1,2,3]\n",
        "\n",
        "# Resource data (example values, replace with Table 70!) #\n",
        "labor_req  = {1:1.5, 2:3, 3:2}\n",
        "lumber_req = {1:2,   2:3, 3:4}\n",
        "paint_req  = {1:3,   2:2, 3:2}\n",
        "\n",
        "profit_unit = {1:20, 2:25, 3:18}  # (price - var cost), example #\n",
        "\n",
        "# Resource limits #\n",
        "labor_avail, lumber_avail, paint_avail = 900, 1600, 1550\n",
        "\n",
        "# Decision variables #\n",
        "x = {i: LpVariable(f\"x{i}\", lowBound=0) for i in products}\n",
        "L = LpVariable(\"LaborExtra\", lowBound=0)\n",
        "P = LpVariable(\"PaintExtra\", lowBound=0)\n",
        "W = LpVariable(\"LumberExtra\", lowBound=0)\n",
        "\n",
        "# Deviations for goals #\n",
        "d1_minus = LpVariable(\"d1_minus\", lowBound=0)\n",
        "d1_plus  = LpVariable(\"d1_plus\", lowBound=0)\n",
        "d2_minus = LpVariable(\"d2_minus\", lowBound=0)\n",
        "d2_plus  = LpVariable(\"d2_plus\", lowBound=0)\n",
        "d3_minus = LpVariable(\"d3_minus\", lowBound=0)\n",
        "d3_plus  = LpVariable(\"d3_plus\", lowBound=0)\n",
        "d4_minus = LpVariable(\"d4_minus\", lowBound=0)\n",
        "d4_plus  = LpVariable(\"d4_plus\", lowBound=0)\n",
        "\n",
        "# Resource constraints #\n",
        "m += lpSum(labor_req[i]*x[i] for i in products) <= labor_avail + L\n",
        "m += lpSum(lumber_req[i]*x[i] for i in products) <= lumber_avail + W\n",
        "m += lpSum(paint_req[i]*x[i] for i in products) <= paint_avail + P\n",
        "\n",
        "# Goals #\n",
        "profit = lpSum(profit_unit[i]*x[i] for i in products) - 6*L - 2*P - 3*W\n",
        "m += profit + d1_minus - d1_plus == 10500\n",
        "m += L + d2_minus - d2_plus == 0\n",
        "m += P + d3_minus - d3_plus == 0\n",
        "m += W + d4_minus - d4_plus == 0\n",
        "\n",
        "# --- Example for Set 1 priorities --- #\n",
        "m.setObjective(10000*d1_minus + 1000*d2_plus + 100*d3_plus + 10*d4_plus)\n",
        "\n",
        "m.solve()\n"
      ]
    }
  ]
}